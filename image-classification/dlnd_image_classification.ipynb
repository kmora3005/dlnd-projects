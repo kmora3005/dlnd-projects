{
 "cells": [
  {
   "cell_type": "markdown",
   "metadata": {
    "collapsed": true
   },
   "source": [
    "# Image Classification\n",
    "In this project, you'll classify images from the [CIFAR-10 dataset](https://www.cs.toronto.edu/~kriz/cifar.html).  The dataset consists of airplanes, dogs, cats, and other objects. You'll preprocess the images, then train a convolutional neural network on all the samples. The images need to be normalized and the labels need to be one-hot encoded.  You'll get to apply what you learned and build a convolutional, max pooling, dropout, and fully connected layers.  At the end, you'll get to see your neural network's predictions on the sample images.\n",
    "## Get the Data\n",
    "Run the following cell to download the [CIFAR-10 dataset for python](https://www.cs.toronto.edu/~kriz/cifar-10-python.tar.gz)."
   ]
  },
  {
   "cell_type": "code",
   "execution_count": 1,
   "metadata": {
    "collapsed": false
   },
   "outputs": [
    {
     "name": "stdout",
     "output_type": "stream",
     "text": [
      "All files found!\n"
     ]
    }
   ],
   "source": [
    "\"\"\"\n",
    "DON'T MODIFY ANYTHING IN THIS CELL THAT IS BELOW THIS LINE\n",
    "\"\"\"\n",
    "from urllib.request import urlretrieve\n",
    "from os.path import isfile, isdir\n",
    "from tqdm import tqdm\n",
    "import problem_unittests as tests\n",
    "import tarfile\n",
    "\n",
    "cifar10_dataset_folder_path = 'cifar-10-batches-py'\n",
    "\n",
    "class DLProgress(tqdm):\n",
    "    last_block = 0\n",
    "\n",
    "    def hook(self, block_num=1, block_size=1, total_size=None):\n",
    "        self.total = total_size\n",
    "        self.update((block_num - self.last_block) * block_size)\n",
    "        self.last_block = block_num\n",
    "\n",
    "if not isfile('cifar-10-python.tar.gz'):\n",
    "    with DLProgress(unit='B', unit_scale=True, miniters=1, desc='CIFAR-10 Dataset') as pbar:\n",
    "        urlretrieve(\n",
    "            'https://www.cs.toronto.edu/~kriz/cifar-10-python.tar.gz',\n",
    "            'cifar-10-python.tar.gz',\n",
    "            pbar.hook)\n",
    "\n",
    "if not isdir(cifar10_dataset_folder_path):\n",
    "    with tarfile.open('cifar-10-python.tar.gz') as tar:\n",
    "        tar.extractall()\n",
    "        tar.close()\n",
    "\n",
    "\n",
    "tests.test_folder_path(cifar10_dataset_folder_path)"
   ]
  },
  {
   "cell_type": "markdown",
   "metadata": {},
   "source": [
    "## Explore the Data\n",
    "The dataset is broken into batches to prevent your machine from running out of memory.  The CIFAR-10 dataset consists of 5 batches, named `data_batch_1`, `data_batch_2`, etc.. Each batch contains the labels and images that are one of the following:\n",
    "* airplane\n",
    "* automobile\n",
    "* bird\n",
    "* cat\n",
    "* deer\n",
    "* dog\n",
    "* frog\n",
    "* horse\n",
    "* ship\n",
    "* truck\n",
    "\n",
    "Understanding a dataset is part of making predictions on the data.  Play around with the code cell below by changing the `batch_id` and `sample_id`. The `batch_id` is the id for a batch (1-5). The `sample_id` is the id for a image and label pair in the batch.\n",
    "\n",
    "Ask yourself \"What are all possible labels?\", \"What is the range of values for the image data?\", \"Are the labels in order or random?\".  Answers to questions like these will help you preprocess the data and end up with better predictions."
   ]
  },
  {
   "cell_type": "code",
   "execution_count": 2,
   "metadata": {
    "collapsed": false
   },
   "outputs": [
    {
     "name": "stdout",
     "output_type": "stream",
     "text": [
      "\n",
      "Stats of batch 1:\n",
      "Samples: 10000\n",
      "Label Counts: {0: 1005, 1: 974, 2: 1032, 3: 1016, 4: 999, 5: 937, 6: 1030, 7: 1001, 8: 1025, 9: 981}\n",
      "First 20 Labels: [6, 9, 9, 4, 1, 1, 2, 7, 8, 3, 4, 7, 7, 2, 9, 9, 9, 3, 2, 6]\n",
      "\n",
      "Example of Image 5:\n",
      "Image - Min Value: 0 Max Value: 252\n",
      "Image - Shape: (32, 32, 3)\n",
      "Label - Label Id: 1 Name: automobile\n"
     ]
    },
    {
     "data": {
      "image/png": "[encoded data removed]",
      "text/plain": [
       "<matplotlib.figure.Figure at 0xa6db470>"
      ]
     },
     "metadata": {
      "image/png": {
       "height": 250,
       "width": 253
      }
     },
     "output_type": "display_data"
    }
   ],
   "source": [
    "%matplotlib inline\n",
    "%config InlineBackend.figure_format = 'retina'\n",
    "\n",
    "import helper\n",
    "import numpy as np\n",
    "\n",
    "# Explore the dataset\n",
    "batch_id = 1\n",
    "sample_id = 5\n",
    "helper.display_stats(cifar10_dataset_folder_path, batch_id, sample_id)"
   ]
  },
  {
   "cell_type": "markdown",
   "metadata": {},
   "source": [
    "## Implement Preprocess Functions\n",
    "### Normalize\n",
    "In the cell below, implement the `normalize` function to take in image data, `x`, and return it as a normalized Numpy array. The values should be in the range of 0 to 1, inclusive.  The return object should be the same shape as `x`."
   ]
  },
  {
   "cell_type": "code",
   "execution_count": 3,
   "metadata": {
    "collapsed": false
   },
   "outputs": [
    {
     "name": "stdout",
     "output_type": "stream",
     "text": [
      "Tests Passed\n"
     ]
    }
   ],
   "source": [
    "def normalize(x):\n",
    "    \"\"\"\n",
    "    Normalize a list of sample image data in the range of 0 to 1\n",
    "    : x: List of image data.  The image shape is (32, 32, 3)\n",
    "    : return: Numpy array of normalize data\n",
    "    \"\"\"\n",
    "    # TODO: Implement Function\n",
    "    a = 0.0\n",
    "    b = 1.0\n",
    "    scale_min = 0\n",
    "    scale_max = 255\n",
    "    return a + ( ( (x - scale_min)*(b - a) )/( scale_max - scale_min ) )\n",
    "\n",
    "\"\"\"\n",
    "DON'T MODIFY ANYTHING IN THIS CELL THAT IS BELOW THIS LINE\n",
    "\"\"\"\n",
    "tests.test_normalize(normalize)"
   ]
  },
  {
   "cell_type": "markdown",
   "metadata": {},
   "source": [
    "### One-hot encode\n",
    "Just like the previous code cell, you'll be implementing a function for preprocessing.  This time, you'll implement the `one_hot_encode` function. The input, `x`, are a list of labels.  Implement the function to return the list of labels as One-Hot encoded Numpy array.  The possible values for labels are 0 to 9. The one-hot encoding function should return the same encoding for each value between each call to `one_hot_encode`.  Make sure to save the map of encodings outside the function.\n",
    "\n",
    "Hint: Don't reinvent the wheel."
   ]
  },
  {
   "cell_type": "code",
   "execution_count": 4,
   "metadata": {
    "collapsed": false
   },
   "outputs": [
    {
     "name": "stdout",
     "output_type": "stream",
     "text": [
      "Tests Passed\n"
     ]
    }
   ],
   "source": [
    "from sklearn import preprocessing\n",
    "\n",
    "n_classes=10\n",
    "label_bin = preprocessing.LabelBinarizer()\n",
    "label_bin.fit(range(n_classes))\n",
    "def one_hot_encode(x):\n",
    "    \"\"\"\n",
    "    One hot encode a list of sample labels. Return a one-hot encoded vector for each label.\n",
    "    : x: List of sample Labels\n",
    "    : return: Numpy array of one-hot encoded labels\n",
    "    \"\"\"\n",
    "    # TODO: Implement Function\n",
    "    encoded_lb=label_bin.transform(x)\n",
    "    return encoded_lb\n",
    "\n",
    "\"\"\"\n",
    "DON'T MODIFY ANYTHING IN THIS CELL THAT IS BELOW THIS LINE\n",
    "\"\"\"\n",
    "tests.test_one_hot_encode(one_hot_encode)"
   ]
  },
  {
   "cell_type": "markdown",
   "metadata": {},
   "source": [
    "### Randomize Data\n",
    "As you saw from exploring the data above, the order of the samples are randomized.  It doesn't hurt to randomize it again, but you don't need to for this dataset."
   ]
  },
  {
   "cell_type": "markdown",
   "metadata": {},
   "source": [
    "## Preprocess all the data and save it\n",
    "Running the code cell below will preprocess all the CIFAR-10 data and save it to file. The code below also uses 10% of the training data for validation."
   ]
  },
  {
   "cell_type": "code",
   "execution_count": 5,
   "metadata": {
    "collapsed": false
   },
   "outputs": [],
   "source": [
    "\"\"\"\n",
    "DON'T MODIFY ANYTHING IN THIS CELL\n",
    "\"\"\"\n",
    "# Preprocess Training, Validation, and Testing Data\n",
    "helper.preprocess_and_save_data(cifar10_dataset_folder_path, normalize, one_hot_encode)"
   ]
  },
  {
   "cell_type": "markdown",
   "metadata": {},
   "source": [
    "# Check Point\n",
    "This is your first checkpoint.  If you ever decide to come back to this notebook or have to restart the notebook, you can start from here.  The preprocessed data has been saved to disk."
   ]
  },
  {
   "cell_type": "code",
   "execution_count": 6,
   "metadata": {
    "collapsed": true
   },
   "outputs": [],
   "source": [
    "\"\"\"\n",
    "DON'T MODIFY ANYTHING IN THIS CELL\n",
    "\"\"\"\n",
    "import pickle\n",
    "import problem_unittests as tests\n",
    "import helper\n",
    "\n",
    "# Load the Preprocessed Validation data\n",
    "valid_features, valid_labels = pickle.load(open('preprocess_validation.p', mode='rb'))"
   ]
  },
  {
   "cell_type": "markdown",
   "metadata": {},
   "source": [
    "## Build the network\n",
    "For the neural network, you'll build each layer into a function.  Most of the code you've seen has been outside of functions. To test your code more thoroughly, we require that you put each layer in a function.  This allows us to give you better feedback and test for simple mistakes using our unittests before you submit your project.\n",
    "\n",
    "If you're finding it hard to dedicate enough time for this course a week, we've provided a small shortcut to this part of the project. In the next couple of problems, you'll have the option to use [TensorFlow Layers](https://www.tensorflow.org/api_docs/python/tf/layers) or [TensorFlow Layers (contrib)](https://www.tensorflow.org/api_guides/python/contrib.layers) to build each layer, except \"Convolutional & Max Pooling\" layer.  TF Layers is similar to Keras's and TFLearn's abstraction to layers, so it's easy to pickup.\n",
    "\n",
    "If you would like to get the most of this course, try to solve all the problems without TF Layers.  Let's begin!\n",
    "### Input\n",
    "The neural network needs to read the image data, one-hot encoded labels, and dropout keep probability. Implement the following functions\n",
    "* Implement `neural_net_image_input`\n",
    " * Return a [TF Placeholder](https://www.tensorflow.org/api_docs/python/tf/placeholder)\n",
    " * Set the shape using `image_shape` with batch size set to `None`.\n",
    " * Name the TensorFlow placeholder \"x\" using the TensorFlow `name` parameter in the [TF Placeholder](https://www.tensorflow.org/api_docs/python/tf/placeholder).\n",
    "* Implement `neural_net_label_input`\n",
    " * Return a [TF Placeholder](https://www.tensorflow.org/api_docs/python/tf/placeholder)\n",
    " * Set the shape using `n_classes` with batch size set to `None`.\n",
    " * Name the TensorFlow placeholder \"y\" using the TensorFlow `name` parameter in the [TF Placeholder](https://www.tensorflow.org/api_docs/python/tf/placeholder).\n",
    "* Implement `neural_net_keep_prob_input`\n",
    " * Return a [TF Placeholder](https://www.tensorflow.org/api_docs/python/tf/placeholder) for dropout keep probability.\n",
    " * Name the TensorFlow placeholder \"keep_prob\" using the TensorFlow `name` parameter in the [TF Placeholder](https://www.tensorflow.org/api_docs/python/tf/placeholder).\n",
    "\n",
    "These names will be used at the end of the project to load your saved model.\n",
    "\n",
    "Note: `None` for shapes in TensorFlow allow for a dynamic size."
   ]
  },
  {
   "cell_type": "code",
   "execution_count": 7,
   "metadata": {
    "collapsed": false
   },
   "outputs": [
    {
     "name": "stdout",
     "output_type": "stream",
     "text": [
      "Image Input Tests Passed.\n",
      "Label Input Tests Passed.\n",
      "Keep Prob Tests Passed.\n"
     ]
    }
   ],
   "source": [
    "import tensorflow as tf\n",
    "\n",
    "def neural_net_image_input(image_shape):\n",
    "    \"\"\"\n",
    "    Return a Tensor for a bach of image input\n",
    "    : image_shape: Shape of the images\n",
    "    : return: Tensor for image input.\n",
    "    \"\"\"\n",
    "    # TODO: Implement Function\n",
    "    return tf.placeholder(tf.float32,shape=(None, image_shape[0], image_shape[1], image_shape[2]),name=\"x\")\n",
    "\n",
    "\n",
    "def neural_net_label_input(n_classes):\n",
    "    \"\"\"\n",
    "    Return a Tensor for a batch of label input\n",
    "    : n_classes: Number of classes\n",
    "    : return: Tensor for label input.\n",
    "    \"\"\"\n",
    "    # TODO: Implement Function\n",
    "    return tf.placeholder(tf.float32,shape=(None,n_classes),name=\"y\")\n",
    "\n",
    "\n",
    "def neural_net_keep_prob_input():\n",
    "    \"\"\"\n",
    "    Return a Tensor for keep probability\n",
    "    : return: Tensor for keep probability.\n",
    "    \"\"\"\n",
    "    # TODO: Implement Function\n",
    "    return tf.placeholder(tf.float32,name=\"keep_prob\")\n",
    "\n",
    "\n",
    "\"\"\"\n",
    "DON'T MODIFY ANYTHING IN THIS CELL THAT IS BELOW THIS LINE\n",
    "\"\"\"\n",
    "tf.reset_default_graph()\n",
    "tests.test_nn_image_inputs(neural_net_image_input)\n",
    "tests.test_nn_label_inputs(neural_net_label_input)\n",
    "tests.test_nn_keep_prob_inputs(neural_net_keep_prob_input)"
   ]
  },
  {
   "cell_type": "markdown",
   "metadata": {},
   "source": [
    "### Convolution and Max Pooling Layer\n",
    "Convolution layers have a lot of success with images. For this code cell, you should implement the function `conv2d_maxpool` to apply convolution then max pooling:\n",
    "* Create the weight and bias using `conv_ksize`, `conv_num_outputs` and the shape of `x_tensor`.\n",
    "* Apply a convolution to `x_tensor` using weight and `conv_strides`.\n",
    " * We recommend you use same padding, but you're welcome to use any padding.\n",
    "* Add bias\n",
    "* Add a nonlinear activation to the convolution.\n",
    "* Apply Max Pooling using `pool_ksize` and `pool_strides`.\n",
    " * We recommend you use same padding, but you're welcome to use any padding.\n",
    "\n",
    "Note: You **can't** use [TensorFlow Layers](https://www.tensorflow.org/api_docs/python/tf/layers) or [TensorFlow Layers (contrib)](https://www.tensorflow.org/api_guides/python/contrib.layers) for this layer.  You're free to use any TensorFlow package for all the other layers."
   ]
  },
  {
   "cell_type": "code",
   "execution_count": 58,
   "metadata": {
    "collapsed": false
   },
   "outputs": [
    {
     "name": "stdout",
     "output_type": "stream",
     "text": [
      "Tests Passed\n"
     ]
    }
   ],
   "source": [
    "def conv2d_maxpool(x_tensor, conv_num_outputs, conv_ksize, conv_strides, pool_ksize, pool_strides):\n",
    "    \"\"\"\n",
    "    Apply convolution then max pooling to x_tensor\n",
    "    :param x_tensor: TensorFlow Tensor\n",
    "    :param conv_num_outputs: Number of outputs for the convolutional layer\n",
    "    :param conv_strides: Stride 2-D Tuple for convolution\n",
    "    :param pool_ksize: kernal size 2-D Tuple for pool\n",
    "    :param pool_strides: Stride 2-D Tuple for pool\n",
    "    : return: A tensor that represents convolution and max pooling of x_tensor\n",
    "    \"\"\"\n",
    "    # TODO: Implement Function\n",
    "    depth=int(x_tensor.get_shape()[3])\n",
    "    w = tf.Variable(tf.truncated_normal([conv_ksize[0], conv_ksize[1], depth, conv_num_outputs],stddev=0.05, mean=0.001))\n",
    "    b = tf.Variable(tf.zeros(conv_num_outputs))\n",
    "    strides = [1, conv_strides[0], conv_strides[1], 1]\n",
    "    ksize = [1, pool_ksize[0], pool_ksize[1], 1]\n",
    "    padding = 'SAME'\n",
    "    \n",
    "    conv= tf.nn.conv2d(x_tensor, w, strides, padding)\n",
    "    conv = tf.nn.bias_add(conv, b)\n",
    "    conv = tf.nn.relu(conv)\n",
    "    strides = [1, pool_strides[0], pool_strides[1], 1]\n",
    "    max_pool=tf.nn.max_pool(conv, ksize, strides, padding)\n",
    "    return max_pool \n",
    "\n",
    "\n",
    "\"\"\"\n",
    "DON'T MODIFY ANYTHING IN THIS CELL THAT IS BELOW THIS LINE\n",
    "\"\"\"\n",
    "tests.test_con_pool(conv2d_maxpool)"
   ]
  },
  {
   "cell_type": "markdown",
   "metadata": {},
   "source": [
    "### Flatten Layer\n",
    "Implement the `flatten` function to change the dimension of `x_tensor` from a 4-D tensor to a 2-D tensor.  The output should be the shape (*Batch Size*, *Flattened Image Size*). You can use [TensorFlow Layers](https://www.tensorflow.org/api_docs/python/tf/layers) or [TensorFlow Layers (contrib)](https://www.tensorflow.org/api_guides/python/contrib.layers) for this layer."
   ]
  },
  {
   "cell_type": "code",
   "execution_count": 59,
   "metadata": {
    "collapsed": false
   },
   "outputs": [
    {
     "name": "stdout",
     "output_type": "stream",
     "text": [
      "Tests Passed\n"
     ]
    }
   ],
   "source": [
    "def flatten(x_tensor):\n",
    "    \"\"\"\n",
    "    Flatten x_tensor to (Batch Size, Flattened Image Size)\n",
    "    : x_tensor: A tensor of size (Batch Size, ...), where ... are the image dimensions.\n",
    "    : return: A tensor of size (Batch Size, Flattened Image Size).\n",
    "    \"\"\"\n",
    "    # TODO: Implement Function\n",
    "    shape = x_tensor.get_shape().as_list()\n",
    "    dim = np.prod(shape[1:]) \n",
    "    x2_tensor = tf.reshape(x_tensor, [-1, dim])\n",
    "    return x2_tensor\n",
    "\n",
    "\n",
    "\"\"\"\n",
    "DON'T MODIFY ANYTHING IN THIS CELL THAT IS BELOW THIS LINE\n",
    "\"\"\"\n",
    "tests.test_flatten(flatten)"
   ]
  },
  {
   "cell_type": "markdown",
   "metadata": {},
   "source": [
    "### Fully-Connected Layer\n",
    "Implement the `fully_conn` function to apply a fully connected layer to `x_tensor` with the shape (*Batch Size*, *num_outputs*). You can use [TensorFlow Layers](https://www.tensorflow.org/api_docs/python/tf/layers) or [TensorFlow Layers (contrib)](https://www.tensorflow.org/api_guides/python/contrib.layers) for this layer."
   ]
  },
  {
   "cell_type": "code",
   "execution_count": 60,
   "metadata": {
    "collapsed": false
   },
   "outputs": [
    {
     "name": "stdout",
     "output_type": "stream",
     "text": [
      "Tests Passed\n"
     ]
    }
   ],
   "source": [
    "def fully_conn(x_tensor, num_outputs):\n",
    "    \"\"\"\n",
    "    Apply a fully connected layer to x_tensor using weight and bias\n",
    "    : x_tensor: A 2-D tensor where the first dimension is batch size.\n",
    "    : num_outputs: The number of output that the new tensor should be.\n",
    "    : return: A 2-D tensor where the second dimension is num_outputs.\n",
    "    \"\"\"\n",
    "    # TODO: Implement Function\n",
    "    w = tf.Variable(tf.truncated_normal([x_tensor.get_shape().as_list()[1], num_outputs],stddev=0.05, mean=0.001))\n",
    "    b = tf.Variable(tf.zeros(num_outputs))\n",
    "    fcl = tf.add(tf.matmul(x_tensor, w), b)\n",
    "    fcl = tf.nn.relu(fcl)\n",
    "    dropout = 0.75\n",
    "    fcl = tf.nn.dropout(fcl, dropout)\n",
    "    return fcl\n",
    "\n",
    "\n",
    "\"\"\"\n",
    "DON'T MODIFY ANYTHING IN THIS CELL THAT IS BELOW THIS LINE\n",
    "\"\"\"\n",
    "tests.test_fully_conn(fully_conn)"
   ]
  },
  {
   "cell_type": "markdown",
   "metadata": {},
   "source": [
    "### Output Layer\n",
    "Implement the `output` function to apply a fully connected layer to `x_tensor` with the shape (*Batch Size*, *num_outputs*). You can use [TensorFlow Layers](https://www.tensorflow.org/api_docs/python/tf/layers) or [TensorFlow Layers (contrib)](https://www.tensorflow.org/api_guides/python/contrib.layers) for this layer.\n",
    "\n",
    "Note: Activation, softmax, or cross entropy shouldn't be applied to this."
   ]
  },
  {
   "cell_type": "code",
   "execution_count": 61,
   "metadata": {
    "collapsed": false
   },
   "outputs": [
    {
     "name": "stdout",
     "output_type": "stream",
     "text": [
      "Tests Passed\n"
     ]
    }
   ],
   "source": [
    "def output(x_tensor, num_outputs):\n",
    "    \"\"\"\n",
    "    Apply a output layer to x_tensor using weight and bias\n",
    "    : x_tensor: A 2-D tensor where the first dimension is batch size.\n",
    "    : num_outputs: The number of output that the new tensor should be.\n",
    "    : return: A 2-D tensor where the second dimension is num_outputs.\n",
    "    \"\"\"\n",
    "    # TODO: Implement Function\n",
    "    w = tf.Variable(tf.truncated_normal([x_tensor.get_shape().as_list()[1], num_outputs],stddev=0.05, mean=0.001))\n",
    "    b = tf.Variable(tf.zeros(num_outputs))\n",
    "    out = tf.add(tf.matmul(x_tensor, w), b)\n",
    "    return out\n",
    "\n",
    "\n",
    "\"\"\"\n",
    "DON'T MODIFY ANYTHING IN THIS CELL THAT IS BELOW THIS LINE\n",
    "\"\"\"\n",
    "tests.test_output(output)"
   ]
  },
  {
   "cell_type": "markdown",
   "metadata": {},
   "source": [
    "### Create Convolutional Model\n",
    "Implement the function `conv_net` to create a convolutional neural network model. The function takes in a batch of images, `x`, and outputs logits.  Use the layers you created above to create this model:\n",
    "\n",
    "* Apply 1, 2, or 3 Convolution and Max Pool layers\n",
    "* Apply a Flatten Layer\n",
    "* Apply 1, 2, or 3 Fully Connected Layers\n",
    "* Apply an Output Layer\n",
    "* Return the output\n",
    "* Apply [TensorFlow's Dropout](https://www.tensorflow.org/api_docs/python/tf/nn/dropout) to one or more layers in the model using `keep_prob`. "
   ]
  },
  {
   "cell_type": "code",
   "execution_count": 83,
   "metadata": {
    "collapsed": false
   },
   "outputs": [
    {
     "name": "stdout",
     "output_type": "stream",
     "text": [
      "Neural Network Built!\n"
     ]
    }
   ],
   "source": [
    "def conv_net(x, keep_prob):\n",
    "    \"\"\"\n",
    "    Create a convolutional neural network model\n",
    "    : x: Placeholder tensor that holds image data.\n",
    "    : keep_prob: Placeholder tensor that hold dropout keep probability.\n",
    "    : return: Tensor that represents logits\n",
    "    \"\"\"\n",
    "    # TODO: Apply 1, 2, or 3 Convolution and Max Pool layers\n",
    "    #    Play around with different number of outputs, kernel size and stride\n",
    "    # Function Definition from Above:\n",
    "    #    conv2d_maxpool(x_tensor, conv_num_outputs, conv_ksize, conv_strides, pool_ksize, pool_strides)\n",
    "    conv_num_outputs = 32\n",
    "    conv_ksize = (2, 2)\n",
    "    conv_strides = (1, 1)\n",
    "    pool_ksize = (2, 2)\n",
    "    pool_strides = (1, 1)\n",
    "    conv1=conv2d_maxpool(x, conv_num_outputs, conv_ksize, conv_strides, pool_ksize, pool_strides)\n",
    "    #conv_num_outputs = 32\n",
    "    #conv_ksize = (2, 2)\n",
    "    #conv_strides = (4, 4)\n",
    "    #pool_ksize = (2, 2)\n",
    "    #pool_strides = (2, 2)\n",
    "    #conv2=conv2d_maxpool(conv1, conv_num_outputs, conv_ksize, conv_strides, pool_ksize, pool_strides)\n",
    "    #conv_num_outputs = 64\n",
    "    #conv_ksize = (1, 1)\n",
    "    #conv_strides = (2, 2)\n",
    "    #pool_ksize = (1, 1)\n",
    "    #pool_strides = (1, 1)\n",
    "    #conv3=conv2d_maxpool(conv2, conv_num_outputs, conv_ksize, conv_strides, pool_ksize, pool_strides)\n",
    "    \n",
    "    # TODO: Apply a Flatten Layer\n",
    "    # Function Definition from Above:\n",
    "    #   flatten(x_tensor)\n",
    "    flatten_conv=flatten(conv1)\n",
    "\n",
    "    # TODO: Apply 1, 2, or 3 Fully Connected Layers\n",
    "    #    Play around with different number of outputs\n",
    "    # Function Definition from Above:\n",
    "    #   fully_conn(x_tensor, num_outputs)\n",
    "    fcl_num_outputs=384\n",
    "    fcl1=fully_conn(flatten_conv, fcl_num_outputs)\n",
    "    fcl1 = tf.nn.dropout(fcl1, keep_prob)\n",
    "    #fcl_num_outputs=512\n",
    "    #fcl2=fully_conn(fcl1, fcl_num_outputs)\n",
    "    #fcl2 = tf.nn.dropout(fcl2, keep_prob)\n",
    "    #fcl_num_outputs=768\n",
    "    #fcl3=fully_conn(fcl2, fcl_num_outputs)\n",
    "    #fcl3 = tf.nn.dropout(fcl3, keep_prob)\n",
    "    \n",
    "    # TODO: Apply an Output Layer\n",
    "    #    Set this to the number of classes\n",
    "    # Function Definition from Above:\n",
    "    #   output(x_tensor, num_outputs)\n",
    "    num_outputs=10\n",
    "    out=output(fcl1, num_outputs)\n",
    "    \n",
    "    # TODO: return output\n",
    "    return out\n",
    "\n",
    "\n",
    "\"\"\"\n",
    "DON'T MODIFY ANYTHING IN THIS CELL THAT IS BELOW THIS LINE\n",
    "\"\"\"\n",
    "\n",
    "##############################\n",
    "## Build the Neural Network ##\n",
    "##############################\n",
    "\n",
    "# Remove previous weights, bias, inputs, etc..\n",
    "tf.reset_default_graph()\n",
    "\n",
    "# Inputs\n",
    "x = neural_net_image_input((32, 32, 3))\n",
    "y = neural_net_label_input(10)\n",
    "keep_prob = neural_net_keep_prob_input()\n",
    "\n",
    "# Model\n",
    "logits = conv_net(x, keep_prob)\n",
    "\n",
    "# Name logits Tensor, so that is can be loaded from disk after training\n",
    "logits = tf.identity(logits, name='logits')\n",
    "\n",
    "# Loss and Optimizer\n",
    "cost = tf.reduce_mean(tf.nn.softmax_cross_entropy_with_logits(logits=logits, labels=y))\n",
    "optimizer = tf.train.AdamOptimizer().minimize(cost)\n",
    "\n",
    "# Accuracy\n",
    "correct_pred = tf.equal(tf.argmax(logits, 1), tf.argmax(y, 1))\n",
    "accuracy = tf.reduce_mean(tf.cast(correct_pred, tf.float32), name='accuracy')\n",
    "\n",
    "tests.test_conv_net(conv_net)"
   ]
  },
  {
   "cell_type": "markdown",
   "metadata": {},
   "source": [
    "## Train the Neural Network\n",
    "### Single Optimization\n",
    "Implement the function `train_neural_network` to do a single optimization.  The optimization should use `optimizer` to optimize in `session` with a `feed_dict` of the following:\n",
    "* `x` for image input\n",
    "* `y` for labels\n",
    "* `keep_prob` for keep probability for dropout\n",
    "\n",
    "This function will be called for each batch, so `tf.global_variables_initializer()` has already been called.\n",
    "\n",
    "Note: Nothing needs to be returned. This function is only optimizing the neural network."
   ]
  },
  {
   "cell_type": "code",
   "execution_count": 84,
   "metadata": {
    "collapsed": false
   },
   "outputs": [
    {
     "name": "stdout",
     "output_type": "stream",
     "text": [
      "Tests Passed\n"
     ]
    }
   ],
   "source": [
    "def train_neural_network(session, optimizer, keep_probability, feature_batch, label_batch):\n",
    "    \"\"\"\n",
    "    Optimize the session on a batch of images and labels\n",
    "    : session: Current TensorFlow session\n",
    "    : optimizer: TensorFlow optimizer function\n",
    "    : keep_probability: keep probability\n",
    "    : feature_batch: Batch of Numpy image data\n",
    "    : label_batch: Batch of Numpy label data\n",
    "    \"\"\"\n",
    "    # TODO: Implement Function\n",
    "    session.run(optimizer, feed_dict={x: feature_batch, y: label_batch, keep_prob: keep_probability})\n",
    "\n",
    "\n",
    "\"\"\"\n",
    "DON'T MODIFY ANYTHING IN THIS CELL THAT IS BELOW THIS LINE\n",
    "\"\"\"\n",
    "tests.test_train_nn(train_neural_network)"
   ]
  },
  {
   "cell_type": "markdown",
   "metadata": {},
   "source": [
    "### Show Stats\n",
    "Implement the function `print_stats` to print loss and validation accuracy.  Use the global variables `valid_features` and `valid_labels` to calculate validation accuracy.  Use a keep probability of `1.0` to calculate the loss and validation accuracy."
   ]
  },
  {
   "cell_type": "code",
   "execution_count": 85,
   "metadata": {
    "collapsed": false
   },
   "outputs": [],
   "source": [
    "def print_stats(session, feature_batch, label_batch, cost, accuracy):\n",
    "    \"\"\"\n",
    "    Print information about loss and validation accuracy\n",
    "    : session: Current TensorFlow session\n",
    "    : feature_batch: Batch of Numpy image data\n",
    "    : label_batch: Batch of Numpy label data\n",
    "    : cost: TensorFlow cost function\n",
    "    : accuracy: TensorFlow accuracy function\n",
    "    \"\"\"\n",
    "    # TODO: Implement Function\n",
    "    test_valid_size = 64\n",
    "    loss = session.run(cost, feed_dict={x: feature_batch, y: label_batch, keep_prob: 1.})\n",
    "    valid_acc = session.run(accuracy, feed_dict={\n",
    "        x: valid_features,\n",
    "        y: valid_labels,\n",
    "        keep_prob: 1.})\n",
    "\n",
    "    print('Loss: {:>10.4f} Validation Accuracy: {:.6f}'.format(loss,valid_acc))"
   ]
  },
  {
   "cell_type": "markdown",
   "metadata": {},
   "source": [
    "### Hyperparameters\n",
    "Tune the following parameters:\n",
    "* Set `epochs` to the number of iterations until the network stops learning or start overfitting\n",
    "* Set `batch_size` to the highest number that your machine has memory for.  Most people set them to common sizes of memory:\n",
    " * 64\n",
    " * 128\n",
    " * 256\n",
    " * ...\n",
    "* Set `keep_probability` to the probability of keeping a node using dropout"
   ]
  },
  {
   "cell_type": "code",
   "execution_count": 86,
   "metadata": {
    "collapsed": true
   },
   "outputs": [],
   "source": [
    "# TODO: Tune Parameters\n",
    "epochs = 25\n",
    "batch_size = 2048\n",
    "keep_probability = 0.75"
   ]
  },
  {
   "cell_type": "markdown",
   "metadata": {},
   "source": [
    "### Train on a Single CIFAR-10 Batch\n",
    "Instead of training the neural network on all the CIFAR-10 batches of data, let's use a single batch. This should save time while you iterate on the model to get a better accuracy.  Once the final validation accuracy is 50% or greater, run the model on all the data in the next section."
   ]
  },
  {
   "cell_type": "code",
   "execution_count": 87,
   "metadata": {
    "collapsed": false
   },
   "outputs": [
    {
     "name": "stdout",
     "output_type": "stream",
     "text": [
      "Checking the Training on a Single Batch...\n",
      "Epoch  1, CIFAR-10 Batch 1:  Loss:     2.7065 Validation Accuracy: 0.148400\n",
      "Epoch  2, CIFAR-10 Batch 1:  Loss:     2.2573 Validation Accuracy: 0.138600\n",
      "Epoch  3, CIFAR-10 Batch 1:  Loss:     2.2448 Validation Accuracy: 0.136000\n",
      "Epoch  4, CIFAR-10 Batch 1:  Loss:     2.1960 Validation Accuracy: 0.201000\n",
      "Epoch  5, CIFAR-10 Batch 1:  Loss:     2.1233 Validation Accuracy: 0.282200\n",
      "Epoch  6, CIFAR-10 Batch 1:  Loss:     2.0330 Validation Accuracy: 0.284800\n",
      "Epoch  7, CIFAR-10 Batch 1:  Loss:     1.9462 Validation Accuracy: 0.301000\n",
      "Epoch  8, CIFAR-10 Batch 1:  Loss:     1.8836 Validation Accuracy: 0.323400\n",
      "Epoch  9, CIFAR-10 Batch 1:  Loss:     1.8007 Validation Accuracy: 0.349400\n",
      "Epoch 10, CIFAR-10 Batch 1:  Loss:     1.7429 Validation Accuracy: 0.372400\n",
      "Epoch 11, CIFAR-10 Batch 1:  Loss:     1.6703 Validation Accuracy: 0.394400\n",
      "Epoch 12, CIFAR-10 Batch 1:  Loss:     1.6176 Validation Accuracy: 0.418200\n",
      "Epoch 13, CIFAR-10 Batch 1:  Loss:     1.5505 Validation Accuracy: 0.422400\n",
      "Epoch 14, CIFAR-10 Batch 1:  Loss:     1.4984 Validation Accuracy: 0.431800\n",
      "Epoch 15, CIFAR-10 Batch 1:  Loss:     1.4341 Validation Accuracy: 0.446600\n",
      "Epoch 16, CIFAR-10 Batch 1:  Loss:     1.4051 Validation Accuracy: 0.464800\n",
      "Epoch 17, CIFAR-10 Batch 1:  Loss:     1.3562 Validation Accuracy: 0.469800\n",
      "Epoch 18, CIFAR-10 Batch 1:  Loss:     1.3030 Validation Accuracy: 0.472600\n",
      "Epoch 19, CIFAR-10 Batch 1:  Loss:     1.2628 Validation Accuracy: 0.482600\n",
      "Epoch 20, CIFAR-10 Batch 1:  Loss:     1.2297 Validation Accuracy: 0.485600\n",
      "Epoch 21, CIFAR-10 Batch 1:  Loss:     1.1949 Validation Accuracy: 0.492000\n",
      "Epoch 22, CIFAR-10 Batch 1:  Loss:     1.1636 Validation Accuracy: 0.502600\n",
      "Epoch 23, CIFAR-10 Batch 1:  Loss:     1.1326 Validation Accuracy: 0.497000\n",
      "Epoch 24, CIFAR-10 Batch 1:  Loss:     1.0942 Validation Accuracy: 0.505800\n",
      "Epoch 25, CIFAR-10 Batch 1:  Loss:     1.0701 Validation Accuracy: 0.508600\n"
     ]
    }
   ],
   "source": [
    "\"\"\"\n",
    "DON'T MODIFY ANYTHING IN THIS CELL\n",
    "\"\"\"\n",
    "print('Checking the Training on a Single Batch...')\n",
    "with tf.Session() as sess:\n",
    "    # Initializing the variables\n",
    "    sess.run(tf.global_variables_initializer())\n",
    "    \n",
    "    # Training cycle\n",
    "    for epoch in range(epochs):\n",
    "        batch_i = 1\n",
    "        for batch_features, batch_labels in helper.load_preprocess_training_batch(batch_i, batch_size):\n",
    "            train_neural_network(sess, optimizer, keep_probability, batch_features, batch_labels)\n",
    "        print('Epoch {:>2}, CIFAR-10 Batch {}:  '.format(epoch + 1, batch_i), end='')\n",
    "        print_stats(sess, batch_features, batch_labels, cost, accuracy)"
   ]
  },
  {
   "cell_type": "markdown",
   "metadata": {},
   "source": [
    "### Fully Train the Model\n",
    "Now that you got a good accuracy with a single CIFAR-10 batch, try it with all five batches."
   ]
  },
  {
   "cell_type": "code",
   "execution_count": 88,
   "metadata": {
    "collapsed": false
   },
   "outputs": [
    {
     "name": "stdout",
     "output_type": "stream",
     "text": [
      "Training...\n",
      "Epoch  1, CIFAR-10 Batch 1:  Loss:     2.3036 Validation Accuracy: 0.185400\n",
      "Epoch  1, CIFAR-10 Batch 2:  Loss:     2.2343 Validation Accuracy: 0.166400\n",
      "Epoch  1, CIFAR-10 Batch 3:  Loss:     2.1373 Validation Accuracy: 0.215400\n",
      "Epoch  1, CIFAR-10 Batch 4:  Loss:     2.0108 Validation Accuracy: 0.257000\n",
      "Epoch  1, CIFAR-10 Batch 5:  Loss:     1.9463 Validation Accuracy: 0.282200\n",
      "Epoch  2, CIFAR-10 Batch 1:  Loss:     1.8939 Validation Accuracy: 0.338400\n",
      "Epoch  2, CIFAR-10 Batch 2:  Loss:     1.8002 Validation Accuracy: 0.362400\n",
      "Epoch  2, CIFAR-10 Batch 3:  Loss:     1.7246 Validation Accuracy: 0.373800\n",
      "Epoch  2, CIFAR-10 Batch 4:  Loss:     1.6972 Validation Accuracy: 0.398600\n",
      "Epoch  2, CIFAR-10 Batch 5:  Loss:     1.6519 Validation Accuracy: 0.412000\n",
      "Epoch  3, CIFAR-10 Batch 1:  Loss:     1.6144 Validation Accuracy: 0.430200\n",
      "Epoch  3, CIFAR-10 Batch 2:  Loss:     1.5404 Validation Accuracy: 0.441600\n",
      "Epoch  3, CIFAR-10 Batch 3:  Loss:     1.4928 Validation Accuracy: 0.446600\n",
      "Epoch  3, CIFAR-10 Batch 4:  Loss:     1.5043 Validation Accuracy: 0.463200\n",
      "Epoch  3, CIFAR-10 Batch 5:  Loss:     1.4800 Validation Accuracy: 0.469600\n",
      "Epoch  4, CIFAR-10 Batch 1:  Loss:     1.4616 Validation Accuracy: 0.478600\n",
      "Epoch  4, CIFAR-10 Batch 2:  Loss:     1.3973 Validation Accuracy: 0.481000\n",
      "Epoch  4, CIFAR-10 Batch 3:  Loss:     1.3309 Validation Accuracy: 0.498200\n",
      "Epoch  4, CIFAR-10 Batch 4:  Loss:     1.3450 Validation Accuracy: 0.507200\n",
      "Epoch  4, CIFAR-10 Batch 5:  Loss:     1.3502 Validation Accuracy: 0.505200\n",
      "Epoch  5, CIFAR-10 Batch 1:  Loss:     1.3433 Validation Accuracy: 0.505600\n",
      "Epoch  5, CIFAR-10 Batch 2:  Loss:     1.2872 Validation Accuracy: 0.513600\n",
      "Epoch  5, CIFAR-10 Batch 3:  Loss:     1.2495 Validation Accuracy: 0.525200\n",
      "Epoch  5, CIFAR-10 Batch 4:  Loss:     1.2574 Validation Accuracy: 0.522400\n",
      "Epoch  5, CIFAR-10 Batch 5:  Loss:     1.2333 Validation Accuracy: 0.532600\n",
      "Epoch  6, CIFAR-10 Batch 1:  Loss:     1.2404 Validation Accuracy: 0.537000\n",
      "Epoch  6, CIFAR-10 Batch 2:  Loss:     1.2102 Validation Accuracy: 0.535000\n",
      "Epoch  6, CIFAR-10 Batch 3:  Loss:     1.1550 Validation Accuracy: 0.535600\n",
      "Epoch  6, CIFAR-10 Batch 4:  Loss:     1.1835 Validation Accuracy: 0.540600\n",
      "Epoch  6, CIFAR-10 Batch 5:  Loss:     1.1878 Validation Accuracy: 0.541600\n",
      "Epoch  7, CIFAR-10 Batch 1:  Loss:     1.1832 Validation Accuracy: 0.540200\n",
      "Epoch  7, CIFAR-10 Batch 2:  Loss:     1.1459 Validation Accuracy: 0.540000\n",
      "Epoch  7, CIFAR-10 Batch 3:  Loss:     1.1223 Validation Accuracy: 0.543400\n",
      "Epoch  7, CIFAR-10 Batch 4:  Loss:     1.1175 Validation Accuracy: 0.558400\n",
      "Epoch  7, CIFAR-10 Batch 5:  Loss:     1.1321 Validation Accuracy: 0.549000\n",
      "Epoch  8, CIFAR-10 Batch 1:  Loss:     1.1393 Validation Accuracy: 0.568200\n",
      "Epoch  8, CIFAR-10 Batch 2:  Loss:     1.0972 Validation Accuracy: 0.549400\n",
      "Epoch  8, CIFAR-10 Batch 3:  Loss:     1.0769 Validation Accuracy: 0.549400\n",
      "Epoch  8, CIFAR-10 Batch 4:  Loss:     1.0880 Validation Accuracy: 0.565000\n",
      "Epoch  8, CIFAR-10 Batch 5:  Loss:     1.0795 Validation Accuracy: 0.569600\n",
      "Epoch  9, CIFAR-10 Batch 1:  Loss:     1.0817 Validation Accuracy: 0.566400\n",
      "Epoch  9, CIFAR-10 Batch 2:  Loss:     1.0429 Validation Accuracy: 0.567000\n",
      "Epoch  9, CIFAR-10 Batch 3:  Loss:     1.0133 Validation Accuracy: 0.567200\n",
      "Epoch  9, CIFAR-10 Batch 4:  Loss:     1.0252 Validation Accuracy: 0.583200\n",
      "Epoch  9, CIFAR-10 Batch 5:  Loss:     1.0159 Validation Accuracy: 0.573400\n",
      "Epoch 10, CIFAR-10 Batch 1:  Loss:     1.0204 Validation Accuracy: 0.572000\n",
      "Epoch 10, CIFAR-10 Batch 2:  Loss:     0.9977 Validation Accuracy: 0.575000\n",
      "Epoch 10, CIFAR-10 Batch 3:  Loss:     0.9635 Validation Accuracy: 0.583600\n",
      "Epoch 10, CIFAR-10 Batch 4:  Loss:     0.9815 Validation Accuracy: 0.582000\n",
      "Epoch 10, CIFAR-10 Batch 5:  Loss:     0.9744 Validation Accuracy: 0.584000\n",
      "Epoch 11, CIFAR-10 Batch 1:  Loss:     0.9954 Validation Accuracy: 0.583400\n",
      "Epoch 11, CIFAR-10 Batch 2:  Loss:     0.9429 Validation Accuracy: 0.577800\n",
      "Epoch 11, CIFAR-10 Batch 3:  Loss:     0.9280 Validation Accuracy: 0.587600\n",
      "Epoch 11, CIFAR-10 Batch 4:  Loss:     0.9346 Validation Accuracy: 0.594200\n",
      "Epoch 11, CIFAR-10 Batch 5:  Loss:     0.9287 Validation Accuracy: 0.591800\n",
      "Epoch 12, CIFAR-10 Batch 1:  Loss:     0.9532 Validation Accuracy: 0.588800\n",
      "Epoch 12, CIFAR-10 Batch 2:  Loss:     0.8938 Validation Accuracy: 0.583200\n",
      "Epoch 12, CIFAR-10 Batch 3:  Loss:     0.8852 Validation Accuracy: 0.588400\n",
      "Epoch 12, CIFAR-10 Batch 4:  Loss:     0.8955 Validation Accuracy: 0.595000\n",
      "Epoch 12, CIFAR-10 Batch 5:  Loss:     0.8911 Validation Accuracy: 0.597400\n",
      "Epoch 13, CIFAR-10 Batch 1:  Loss:     0.9067 Validation Accuracy: 0.591800\n",
      "Epoch 13, CIFAR-10 Batch 2:  Loss:     0.8808 Validation Accuracy: 0.592200\n",
      "Epoch 13, CIFAR-10 Batch 3:  Loss:     0.8408 Validation Accuracy: 0.599000\n",
      "Epoch 13, CIFAR-10 Batch 4:  Loss:     0.8427 Validation Accuracy: 0.599400\n",
      "Epoch 13, CIFAR-10 Batch 5:  Loss:     0.8444 Validation Accuracy: 0.596800\n",
      "Epoch 14, CIFAR-10 Batch 1:  Loss:     0.8713 Validation Accuracy: 0.604600\n",
      "Epoch 14, CIFAR-10 Batch 2:  Loss:     0.8214 Validation Accuracy: 0.597000\n",
      "Epoch 14, CIFAR-10 Batch 3:  Loss:     0.8109 Validation Accuracy: 0.600000\n",
      "Epoch 14, CIFAR-10 Batch 4:  Loss:     0.8191 Validation Accuracy: 0.608800\n",
      "Epoch 14, CIFAR-10 Batch 5:  Loss:     0.7952 Validation Accuracy: 0.602400\n",
      "Epoch 15, CIFAR-10 Batch 1:  Loss:     0.8311 Validation Accuracy: 0.602200\n",
      "Epoch 15, CIFAR-10 Batch 2:  Loss:     0.7943 Validation Accuracy: 0.613000\n",
      "Epoch 15, CIFAR-10 Batch 3:  Loss:     0.7821 Validation Accuracy: 0.608000\n",
      "Epoch 15, CIFAR-10 Batch 4:  Loss:     0.7741 Validation Accuracy: 0.611800\n",
      "Epoch 15, CIFAR-10 Batch 5:  Loss:     0.7706 Validation Accuracy: 0.605800\n",
      "Epoch 16, CIFAR-10 Batch 1:  Loss:     0.8083 Validation Accuracy: 0.613200\n",
      "Epoch 16, CIFAR-10 Batch 2:  Loss:     0.7646 Validation Accuracy: 0.607600\n",
      "Epoch 16, CIFAR-10 Batch 3:  Loss:     0.7410 Validation Accuracy: 0.612400\n",
      "Epoch 16, CIFAR-10 Batch 4:  Loss:     0.7269 Validation Accuracy: 0.618600\n",
      "Epoch 16, CIFAR-10 Batch 5:  Loss:     0.7255 Validation Accuracy: 0.610200\n",
      "Epoch 17, CIFAR-10 Batch 1:  Loss:     0.7597 Validation Accuracy: 0.613200\n",
      "Epoch 17, CIFAR-10 Batch 2:  Loss:     0.7226 Validation Accuracy: 0.618400\n",
      "Epoch 17, CIFAR-10 Batch 3:  Loss:     0.7166 Validation Accuracy: 0.611000\n",
      "Epoch 17, CIFAR-10 Batch 4:  Loss:     0.6957 Validation Accuracy: 0.616600\n",
      "Epoch 17, CIFAR-10 Batch 5:  Loss:     0.6831 Validation Accuracy: 0.617600\n",
      "Epoch 18, CIFAR-10 Batch 1:  Loss:     0.7238 Validation Accuracy: 0.621400\n",
      "Epoch 18, CIFAR-10 Batch 2:  Loss:     0.7002 Validation Accuracy: 0.618200\n",
      "Epoch 18, CIFAR-10 Batch 3:  Loss:     0.6689 Validation Accuracy: 0.622000\n",
      "Epoch 18, CIFAR-10 Batch 4:  Loss:     0.6590 Validation Accuracy: 0.619800\n",
      "Epoch 18, CIFAR-10 Batch 5:  Loss:     0.6618 Validation Accuracy: 0.613200\n",
      "Epoch 19, CIFAR-10 Batch 1:  Loss:     0.7020 Validation Accuracy: 0.616000\n",
      "Epoch 19, CIFAR-10 Batch 2:  Loss:     0.6579 Validation Accuracy: 0.621200\n",
      "Epoch 19, CIFAR-10 Batch 3:  Loss:     0.6253 Validation Accuracy: 0.622600\n",
      "Epoch 19, CIFAR-10 Batch 4:  Loss:     0.6392 Validation Accuracy: 0.624000\n",
      "Epoch 19, CIFAR-10 Batch 5:  Loss:     0.6116 Validation Accuracy: 0.627800\n",
      "Epoch 20, CIFAR-10 Batch 1:  Loss:     0.6614 Validation Accuracy: 0.617800\n",
      "Epoch 20, CIFAR-10 Batch 2:  Loss:     0.6409 Validation Accuracy: 0.629600\n",
      "Epoch 20, CIFAR-10 Batch 3:  Loss:     0.6114 Validation Accuracy: 0.621000\n",
      "Epoch 20, CIFAR-10 Batch 4:  Loss:     0.6059 Validation Accuracy: 0.627800\n",
      "Epoch 20, CIFAR-10 Batch 5:  Loss:     0.5911 Validation Accuracy: 0.621200\n",
      "Epoch 21, CIFAR-10 Batch 1:  Loss:     0.6523 Validation Accuracy: 0.619800\n",
      "Epoch 21, CIFAR-10 Batch 2:  Loss:     0.5995 Validation Accuracy: 0.623600\n",
      "Epoch 21, CIFAR-10 Batch 3:  Loss:     0.5810 Validation Accuracy: 0.631600\n",
      "Epoch 21, CIFAR-10 Batch 4:  Loss:     0.5808 Validation Accuracy: 0.627600\n",
      "Epoch 21, CIFAR-10 Batch 5:  Loss:     0.5738 Validation Accuracy: 0.624800\n",
      "Epoch 22, CIFAR-10 Batch 1:  Loss:     0.6179 Validation Accuracy: 0.622400\n",
      "Epoch 22, CIFAR-10 Batch 2:  Loss:     0.5844 Validation Accuracy: 0.623000\n",
      "Epoch 22, CIFAR-10 Batch 3:  Loss:     0.5457 Validation Accuracy: 0.629800\n",
      "Epoch 22, CIFAR-10 Batch 4:  Loss:     0.5391 Validation Accuracy: 0.630400\n",
      "Epoch 22, CIFAR-10 Batch 5:  Loss:     0.5361 Validation Accuracy: 0.630400\n",
      "Epoch 23, CIFAR-10 Batch 1:  Loss:     0.5871 Validation Accuracy: 0.639200\n",
      "Epoch 23, CIFAR-10 Batch 2:  Loss:     0.5639 Validation Accuracy: 0.629000\n",
      "Epoch 23, CIFAR-10 Batch 3:  Loss:     0.5097 Validation Accuracy: 0.638600\n",
      "Epoch 23, CIFAR-10 Batch 4:  Loss:     0.5070 Validation Accuracy: 0.629200\n",
      "Epoch 23, CIFAR-10 Batch 5:  Loss:     0.5051 Validation Accuracy: 0.627200\n",
      "Epoch 24, CIFAR-10 Batch 1:  Loss:     0.5522 Validation Accuracy: 0.630400\n",
      "Epoch 24, CIFAR-10 Batch 2:  Loss:     0.5149 Validation Accuracy: 0.633800\n",
      "Epoch 24, CIFAR-10 Batch 3:  Loss:     0.4933 Validation Accuracy: 0.639400\n",
      "Epoch 24, CIFAR-10 Batch 4:  Loss:     0.4806 Validation Accuracy: 0.636600\n",
      "Epoch 24, CIFAR-10 Batch 5:  Loss:     0.4754 Validation Accuracy: 0.636400\n",
      "Epoch 25, CIFAR-10 Batch 1:  Loss:     0.5215 Validation Accuracy: 0.635000\n",
      "Epoch 25, CIFAR-10 Batch 2:  Loss:     0.4995 Validation Accuracy: 0.638800\n",
      "Epoch 25, CIFAR-10 Batch 3:  Loss:     0.4665 Validation Accuracy: 0.637800\n",
      "Epoch 25, CIFAR-10 Batch 4:  Loss:     0.4530 Validation Accuracy: 0.639600\n",
      "Epoch 25, CIFAR-10 Batch 5:  Loss:     0.4422 Validation Accuracy: 0.643800\n"
     ]
    }
   ],
   "source": [
    "\"\"\"\n",
    "DON'T MODIFY ANYTHING IN THIS CELL\n",
    "\"\"\"\n",
    "save_model_path = './image_classification'\n",
    "\n",
    "print('Training...')\n",
    "with tf.Session() as sess:\n",
    "    # Initializing the variables\n",
    "    sess.run(tf.global_variables_initializer())\n",
    "    \n",
    "    # Training cycle\n",
    "    for epoch in range(epochs):\n",
    "        # Loop over all batches\n",
    "        n_batches = 5\n",
    "        for batch_i in range(1, n_batches + 1):\n",
    "            for batch_features, batch_labels in helper.load_preprocess_training_batch(batch_i, batch_size):\n",
    "                train_neural_network(sess, optimizer, keep_probability, batch_features, batch_labels)\n",
    "            print('Epoch {:>2}, CIFAR-10 Batch {}:  '.format(epoch + 1, batch_i), end='')\n",
    "            print_stats(sess, batch_features, batch_labels, cost, accuracy)\n",
    "            \n",
    "    # Save Model\n",
    "    saver = tf.train.Saver()\n",
    "    save_path = saver.save(sess, save_model_path)"
   ]
  },
  {
   "cell_type": "markdown",
   "metadata": {},
   "source": [
    "# Checkpoint\n",
    "The model has been saved to disk.\n",
    "## Test Model\n",
    "Test your model against the test dataset.  This will be your final accuracy. You should have an accuracy greater than 50%. If you don't, keep tweaking the model architecture and parameters."
   ]
  },
  {
   "cell_type": "code",
   "execution_count": 89,
   "metadata": {
    "collapsed": false
   },
   "outputs": [
    {
     "name": "stdout",
     "output_type": "stream",
     "text": [
      "Testing Accuracy: 0.6355987310409545\n",
      "\n"
     ]
    },
    {
     "data": {
      "image/png": "[encoded data removed]",
      "text/plain": [
       "<matplotlib.figure.Figure at 0xe14fc18>"
      ]
     },
     "metadata": {
      "image/png": {
       "height": 319,
       "width": 355
      }
     },
     "output_type": "display_data"
    }
   ],
   "source": [
    "\"\"\"\n",
    "DON'T MODIFY ANYTHING IN THIS CELL\n",
    "\"\"\"\n",
    "%matplotlib inline\n",
    "%config InlineBackend.figure_format = 'retina'\n",
    "\n",
    "import tensorflow as tf\n",
    "import pickle\n",
    "import helper\n",
    "import random\n",
    "\n",
    "# Set batch size if not already set\n",
    "try:\n",
    "    if batch_size:\n",
    "        pass\n",
    "except NameError:\n",
    "    batch_size = 64\n",
    "\n",
    "save_model_path = './image_classification'\n",
    "n_samples = 4\n",
    "top_n_predictions = 3\n",
    "\n",
    "def test_model():\n",
    "    \"\"\"\n",
    "    Test the saved model against the test dataset\n",
    "    \"\"\"\n",
    "\n",
    "    test_features, test_labels = pickle.load(open('preprocess_training.p', mode='rb'))\n",
    "    loaded_graph = tf.Graph()\n",
    "\n",
    "    with tf.Session(graph=loaded_graph) as sess:\n",
    "        # Load model\n",
    "        loader = tf.train.import_meta_graph(save_model_path + '.meta')\n",
    "        loader.restore(sess, save_model_path)\n",
    "\n",
    "        # Get Tensors from loaded model\n",
    "        loaded_x = loaded_graph.get_tensor_by_name('x:0')\n",
    "        loaded_y = loaded_graph.get_tensor_by_name('y:0')\n",
    "        loaded_keep_prob = loaded_graph.get_tensor_by_name('keep_prob:0')\n",
    "        loaded_logits = loaded_graph.get_tensor_by_name('logits:0')\n",
    "        loaded_acc = loaded_graph.get_tensor_by_name('accuracy:0')\n",
    "        \n",
    "        # Get accuracy in batches for memory limitations\n",
    "        test_batch_acc_total = 0\n",
    "        test_batch_count = 0\n",
    "        \n",
    "        for train_feature_batch, train_label_batch in helper.batch_features_labels(test_features, test_labels, batch_size):\n",
    "            test_batch_acc_total += sess.run(\n",
    "                loaded_acc,\n",
    "                feed_dict={loaded_x: train_feature_batch, loaded_y: train_label_batch, loaded_keep_prob: 1.0})\n",
    "            test_batch_count += 1\n",
    "\n",
    "        print('Testing Accuracy: {}\\n'.format(test_batch_acc_total/test_batch_count))\n",
    "\n",
    "        # Print Random Samples\n",
    "        random_test_features, random_test_labels = tuple(zip(*random.sample(list(zip(test_features, test_labels)), n_samples)))\n",
    "        random_test_predictions = sess.run(\n",
    "            tf.nn.top_k(tf.nn.softmax(loaded_logits), top_n_predictions),\n",
    "            feed_dict={loaded_x: random_test_features, loaded_y: random_test_labels, loaded_keep_prob: 1.0})\n",
    "        helper.display_image_predictions(random_test_features, random_test_labels, random_test_predictions)\n",
    "\n",
    "\n",
    "test_model()"
   ]
  },
  {
   "cell_type": "markdown",
   "metadata": {},
   "source": [
    "## Why 50-70% Accuracy?\n",
    "You might be wondering why you can't get an accuracy any higher. First things first, 50% isn't bad for a simple CNN.  Pure guessing would get you 10% accuracy. However, you might notice people are getting scores [well above 70%](http://rodrigob.github.io/are_we_there_yet/build/classification_datasets_results.html#43494641522d3130).  That's because we haven't taught you all there is to know about neural networks. We still need to cover a few more techniques.\n",
    "## Submitting This Project\n",
    "When submitting this project, make sure to run all the cells before saving the notebook.  Save the notebook file as \"dlnd_image_classification.ipynb\" and save it as a HTML file under \"File\" -> \"Download as\".  Include the \"helper.py\" and \"problem_unittests.py\" files in your submission."
   ]
  }
 ],
 "metadata": {
  "kernelspec": {
   "display_name": "Python [conda env:dlnd2]",
   "language": "python",
   "name": "conda-env-dlnd2-py"
  },
  "language_info": {
   "codemirror_mode": {
    "name": "ipython",
    "version": 3
   },
   "file_extension": ".py",
   "mimetype": "text/x-python",
   "name": "python",
   "nbconvert_exporter": "python",
   "pygments_lexer": "ipython3",
   "version": "3.5.3"
  }
 },
 "nbformat": 4,
 "nbformat_minor": 0
}
