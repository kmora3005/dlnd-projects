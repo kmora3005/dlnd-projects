{
 "cells": [
  {
   "cell_type": "markdown",
   "metadata": {
    "collapsed": true
   },
   "source": [
    "# Image Classification\n",
    "In this project, you'll classify images from the [CIFAR-10 dataset](https://www.cs.toronto.edu/~kriz/cifar.html).  The dataset consists of airplanes, dogs, cats, and other objects. You'll preprocess the images, then train a convolutional neural network on all the samples. The images need to be normalized and the labels need to be one-hot encoded.  You'll get to apply what you learned and build a convolutional, max pooling, dropout, and fully connected layers.  At the end, you'll get to see your neural network's predictions on the sample images.\n",
    "## Get the Data\n",
    "Run the following cell to download the [CIFAR-10 dataset for python](https://www.cs.toronto.edu/~kriz/cifar-10-python.tar.gz)."
   ]
  },
  {
   "cell_type": "code",
   "execution_count": 1,
   "metadata": {
    "collapsed": false
   },
   "outputs": [
    {
     "name": "stdout",
     "output_type": "stream",
     "text": [
      "All files found!\n"
     ]
    }
   ],
   "source": [
    "\"\"\"\n",
    "DON'T MODIFY ANYTHING IN THIS CELL THAT IS BELOW THIS LINE\n",
    "\"\"\"\n",
    "from urllib.request import urlretrieve\n",
    "from os.path import isfile, isdir\n",
    "from tqdm import tqdm\n",
    "import problem_unittests as tests\n",
    "import tarfile\n",
    "\n",
    "cifar10_dataset_folder_path = 'cifar-10-batches-py'\n",
    "\n",
    "class DLProgress(tqdm):\n",
    "    last_block = 0\n",
    "\n",
    "    def hook(self, block_num=1, block_size=1, total_size=None):\n",
    "        self.total = total_size\n",
    "        self.update((block_num - self.last_block) * block_size)\n",
    "        self.last_block = block_num\n",
    "\n",
    "if not isfile('cifar-10-python.tar.gz'):\n",
    "    with DLProgress(unit='B', unit_scale=True, miniters=1, desc='CIFAR-10 Dataset') as pbar:\n",
    "        urlretrieve(\n",
    "            'https://www.cs.toronto.edu/~kriz/cifar-10-python.tar.gz',\n",
    "            'cifar-10-python.tar.gz',\n",
    "            pbar.hook)\n",
    "\n",
    "if not isdir(cifar10_dataset_folder_path):\n",
    "    with tarfile.open('cifar-10-python.tar.gz') as tar:\n",
    "        tar.extractall()\n",
    "        tar.close()\n",
    "\n",
    "\n",
    "tests.test_folder_path(cifar10_dataset_folder_path)"
   ]
  },
  {
   "cell_type": "markdown",
   "metadata": {},
   "source": [
    "## Explore the Data\n",
    "The dataset is broken into batches to prevent your machine from running out of memory.  The CIFAR-10 dataset consists of 5 batches, named `data_batch_1`, `data_batch_2`, etc.. Each batch contains the labels and images that are one of the following:\n",
    "* airplane\n",
    "* automobile\n",
    "* bird\n",
    "* cat\n",
    "* deer\n",
    "* dog\n",
    "* frog\n",
    "* horse\n",
    "* ship\n",
    "* truck\n",
    "\n",
    "Understanding a dataset is part of making predictions on the data.  Play around with the code cell below by changing the `batch_id` and `sample_id`. The `batch_id` is the id for a batch (1-5). The `sample_id` is the id for a image and label pair in the batch.\n",
    "\n",
    "Ask yourself \"What are all possible labels?\", \"What is the range of values for the image data?\", \"Are the labels in order or random?\".  Answers to questions like these will help you preprocess the data and end up with better predictions."
   ]
  },
  {
   "cell_type": "code",
   "execution_count": 2,
   "metadata": {
    "collapsed": false
   },
   "outputs": [
    {
     "name": "stdout",
     "output_type": "stream",
     "text": [
      "\n",
      "Stats of batch 1:\n",
      "Samples: 10000\n",
      "Label Counts: {0: 1005, 1: 974, 2: 1032, 3: 1016, 4: 999, 5: 937, 6: 1030, 7: 1001, 8: 1025, 9: 981}\n",
      "First 20 Labels: [6, 9, 9, 4, 1, 1, 2, 7, 8, 3, 4, 7, 7, 2, 9, 9, 9, 3, 2, 6]\n",
      "\n",
      "Example of Image 5:\n",
      "Image - Min Value: 0 Max Value: 252\n",
      "Image - Shape: (32, 32, 3)\n",
      "Label - Label Id: 1 Name: automobile\n"
     ]
    },
    {
     "data": {
      "image/png": "[encoded data removed]",
      "text/plain": [
       "<matplotlib.figure.Figure at 0xa6db470>"
      ]
     },
     "metadata": {
      "image/png": {
       "height": 250,
       "width": 253
      }
     },
     "output_type": "display_data"
    }
   ],
   "source": [
    "%matplotlib inline\n",
    "%config InlineBackend.figure_format = 'retina'\n",
    "\n",
    "import helper\n",
    "import numpy as np\n",
    "\n",
    "# Explore the dataset\n",
    "batch_id = 1\n",
    "sample_id = 5\n",
    "helper.display_stats(cifar10_dataset_folder_path, batch_id, sample_id)"
   ]
  },
  {
   "cell_type": "markdown",
   "metadata": {},
   "source": [
    "## Implement Preprocess Functions\n",
    "### Normalize\n",
    "In the cell below, implement the `normalize` function to take in image data, `x`, and return it as a normalized Numpy array. The values should be in the range of 0 to 1, inclusive.  The return object should be the same shape as `x`."
   ]
  },
  {
   "cell_type": "code",
   "execution_count": 3,
   "metadata": {
    "collapsed": false
   },
   "outputs": [
    {
     "name": "stdout",
     "output_type": "stream",
     "text": [
      "Tests Passed\n"
     ]
    }
   ],
   "source": [
    "def normalize(x):\n",
    "    \"\"\"\n",
    "    Normalize a list of sample image data in the range of 0 to 1\n",
    "    : x: List of image data.  The image shape is (32, 32, 3)\n",
    "    : return: Numpy array of normalize data\n",
    "    \"\"\"\n",
    "    # TODO: Implement Function\n",
    "    a = 0.0\n",
    "    b = 1.0\n",
    "    scale_min = 0\n",
    "    scale_max = 255\n",
    "    return a + ( ( (x - scale_min)*(b - a) )/( scale_max - scale_min ) )\n",
    "\n",
    "\"\"\"\n",
    "DON'T MODIFY ANYTHING IN THIS CELL THAT IS BELOW THIS LINE\n",
    "\"\"\"\n",
    "tests.test_normalize(normalize)"
   ]
  },
  {
   "cell_type": "markdown",
   "metadata": {},
   "source": [
    "### One-hot encode\n",
    "Just like the previous code cell, you'll be implementing a function for preprocessing.  This time, you'll implement the `one_hot_encode` function. The input, `x`, are a list of labels.  Implement the function to return the list of labels as One-Hot encoded Numpy array.  The possible values for labels are 0 to 9. The one-hot encoding function should return the same encoding for each value between each call to `one_hot_encode`.  Make sure to save the map of encodings outside the function.\n",
    "\n",
    "Hint: Don't reinvent the wheel."
   ]
  },
  {
   "cell_type": "code",
   "execution_count": 4,
   "metadata": {
    "collapsed": false
   },
   "outputs": [
    {
     "name": "stdout",
     "output_type": "stream",
     "text": [
      "Tests Passed\n"
     ]
    }
   ],
   "source": [
    "from sklearn import preprocessing\n",
    "\n",
    "n_classes=10\n",
    "label_bin = preprocessing.LabelBinarizer()\n",
    "label_bin.fit(range(n_classes))\n",
    "def one_hot_encode(x):\n",
    "    \"\"\"\n",
    "    One hot encode a list of sample labels. Return a one-hot encoded vector for each label.\n",
    "    : x: List of sample Labels\n",
    "    : return: Numpy array of one-hot encoded labels\n",
    "    \"\"\"\n",
    "    # TODO: Implement Function\n",
    "    encoded_lb=label_bin.transform(x)\n",
    "    return encoded_lb\n",
    "\n",
    "\"\"\"\n",
    "DON'T MODIFY ANYTHING IN THIS CELL THAT IS BELOW THIS LINE\n",
    "\"\"\"\n",
    "tests.test_one_hot_encode(one_hot_encode)"
   ]
  },
  {
   "cell_type": "markdown",
   "metadata": {},
   "source": [
    "### Randomize Data\n",
    "As you saw from exploring the data above, the order of the samples are randomized.  It doesn't hurt to randomize it again, but you don't need to for this dataset."
   ]
  },
  {
   "cell_type": "markdown",
   "metadata": {},
   "source": [
    "## Preprocess all the data and save it\n",
    "Running the code cell below will preprocess all the CIFAR-10 data and save it to file. The code below also uses 10% of the training data for validation."
   ]
  },
  {
   "cell_type": "code",
   "execution_count": 5,
   "metadata": {
    "collapsed": false
   },
   "outputs": [],
   "source": [
    "\"\"\"\n",
    "DON'T MODIFY ANYTHING IN THIS CELL\n",
    "\"\"\"\n",
    "# Preprocess Training, Validation, and Testing Data\n",
    "helper.preprocess_and_save_data(cifar10_dataset_folder_path, normalize, one_hot_encode)"
   ]
  },
  {
   "cell_type": "markdown",
   "metadata": {},
   "source": [
    "# Check Point\n",
    "This is your first checkpoint.  If you ever decide to come back to this notebook or have to restart the notebook, you can start from here.  The preprocessed data has been saved to disk."
   ]
  },
  {
   "cell_type": "code",
   "execution_count": 6,
   "metadata": {
    "collapsed": true
   },
   "outputs": [],
   "source": [
    "\"\"\"\n",
    "DON'T MODIFY ANYTHING IN THIS CELL\n",
    "\"\"\"\n",
    "import pickle\n",
    "import problem_unittests as tests\n",
    "import helper\n",
    "\n",
    "# Load the Preprocessed Validation data\n",
    "valid_features, valid_labels = pickle.load(open('preprocess_validation.p', mode='rb'))"
   ]
  },
  {
   "cell_type": "markdown",
   "metadata": {},
   "source": [
    "## Build the network\n",
    "For the neural network, you'll build each layer into a function.  Most of the code you've seen has been outside of functions. To test your code more thoroughly, we require that you put each layer in a function.  This allows us to give you better feedback and test for simple mistakes using our unittests before you submit your project.\n",
    "\n",
    "If you're finding it hard to dedicate enough time for this course a week, we've provided a small shortcut to this part of the project. In the next couple of problems, you'll have the option to use [TensorFlow Layers](https://www.tensorflow.org/api_docs/python/tf/layers) or [TensorFlow Layers (contrib)](https://www.tensorflow.org/api_guides/python/contrib.layers) to build each layer, except \"Convolutional & Max Pooling\" layer.  TF Layers is similar to Keras's and TFLearn's abstraction to layers, so it's easy to pickup.\n",
    "\n",
    "If you would like to get the most of this course, try to solve all the problems without TF Layers.  Let's begin!\n",
    "### Input\n",
    "The neural network needs to read the image data, one-hot encoded labels, and dropout keep probability. Implement the following functions\n",
    "* Implement `neural_net_image_input`\n",
    " * Return a [TF Placeholder](https://www.tensorflow.org/api_docs/python/tf/placeholder)\n",
    " * Set the shape using `image_shape` with batch size set to `None`.\n",
    " * Name the TensorFlow placeholder \"x\" using the TensorFlow `name` parameter in the [TF Placeholder](https://www.tensorflow.org/api_docs/python/tf/placeholder).\n",
    "* Implement `neural_net_label_input`\n",
    " * Return a [TF Placeholder](https://www.tensorflow.org/api_docs/python/tf/placeholder)\n",
    " * Set the shape using `n_classes` with batch size set to `None`.\n",
    " * Name the TensorFlow placeholder \"y\" using the TensorFlow `name` parameter in the [TF Placeholder](https://www.tensorflow.org/api_docs/python/tf/placeholder).\n",
    "* Implement `neural_net_keep_prob_input`\n",
    " * Return a [TF Placeholder](https://www.tensorflow.org/api_docs/python/tf/placeholder) for dropout keep probability.\n",
    " * Name the TensorFlow placeholder \"keep_prob\" using the TensorFlow `name` parameter in the [TF Placeholder](https://www.tensorflow.org/api_docs/python/tf/placeholder).\n",
    "\n",
    "These names will be used at the end of the project to load your saved model.\n",
    "\n",
    "Note: `None` for shapes in TensorFlow allow for a dynamic size."
   ]
  },
  {
   "cell_type": "code",
   "execution_count": 7,
   "metadata": {
    "collapsed": false
   },
   "outputs": [
    {
     "name": "stdout",
     "output_type": "stream",
     "text": [
      "Image Input Tests Passed.\n",
      "Label Input Tests Passed.\n",
      "Keep Prob Tests Passed.\n"
     ]
    }
   ],
   "source": [
    "import tensorflow as tf\n",
    "\n",
    "def neural_net_image_input(image_shape):\n",
    "    \"\"\"\n",
    "    Return a Tensor for a bach of image input\n",
    "    : image_shape: Shape of the images\n",
    "    : return: Tensor for image input.\n",
    "    \"\"\"\n",
    "    # TODO: Implement Function\n",
    "    return tf.placeholder(tf.float32,shape=(None, image_shape[0], image_shape[1], image_shape[2]),name=\"x\")\n",
    "\n",
    "\n",
    "def neural_net_label_input(n_classes):\n",
    "    \"\"\"\n",
    "    Return a Tensor for a batch of label input\n",
    "    : n_classes: Number of classes\n",
    "    : return: Tensor for label input.\n",
    "    \"\"\"\n",
    "    # TODO: Implement Function\n",
    "    return tf.placeholder(tf.float32,shape=(None,n_classes),name=\"y\")\n",
    "\n",
    "\n",
    "def neural_net_keep_prob_input():\n",
    "    \"\"\"\n",
    "    Return a Tensor for keep probability\n",
    "    : return: Tensor for keep probability.\n",
    "    \"\"\"\n",
    "    # TODO: Implement Function\n",
    "    return tf.placeholder(tf.float32,name=\"keep_prob\")\n",
    "\n",
    "\n",
    "\"\"\"\n",
    "DON'T MODIFY ANYTHING IN THIS CELL THAT IS BELOW THIS LINE\n",
    "\"\"\"\n",
    "tf.reset_default_graph()\n",
    "tests.test_nn_image_inputs(neural_net_image_input)\n",
    "tests.test_nn_label_inputs(neural_net_label_input)\n",
    "tests.test_nn_keep_prob_inputs(neural_net_keep_prob_input)"
   ]
  },
  {
   "cell_type": "markdown",
   "metadata": {},
   "source": [
    "### Convolution and Max Pooling Layer\n",
    "Convolution layers have a lot of success with images. For this code cell, you should implement the function `conv2d_maxpool` to apply convolution then max pooling:\n",
    "* Create the weight and bias using `conv_ksize`, `conv_num_outputs` and the shape of `x_tensor`.\n",
    "* Apply a convolution to `x_tensor` using weight and `conv_strides`.\n",
    " * We recommend you use same padding, but you're welcome to use any padding.\n",
    "* Add bias\n",
    "* Add a nonlinear activation to the convolution.\n",
    "* Apply Max Pooling using `pool_ksize` and `pool_strides`.\n",
    " * We recommend you use same padding, but you're welcome to use any padding.\n",
    "\n",
    "Note: You **can't** use [TensorFlow Layers](https://www.tensorflow.org/api_docs/python/tf/layers) or [TensorFlow Layers (contrib)](https://www.tensorflow.org/api_guides/python/contrib.layers) for this layer.  You're free to use any TensorFlow package for all the other layers."
   ]
  },
  {
   "cell_type": "code",
   "execution_count": 58,
   "metadata": {
    "collapsed": false
   },
   "outputs": [
    {
     "name": "stdout",
     "output_type": "stream",
     "text": [
      "Tests Passed\n"
     ]
    }
   ],
   "source": [
    "def conv2d_maxpool(x_tensor, conv_num_outputs, conv_ksize, conv_strides, pool_ksize, pool_strides):\n",
    "    \"\"\"\n",
    "    Apply convolution then max pooling to x_tensor\n",
    "    :param x_tensor: TensorFlow Tensor\n",
    "    :param conv_num_outputs: Number of outputs for the convolutional layer\n",
    "    :param conv_strides: Stride 2-D Tuple for convolution\n",
    "    :param pool_ksize: kernal size 2-D Tuple for pool\n",
    "    :param pool_strides: Stride 2-D Tuple for pool\n",
    "    : return: A tensor that represents convolution and max pooling of x_tensor\n",
    "    \"\"\"\n",
    "    # TODO: Implement Function\n",
    "    depth=int(x_tensor.get_shape()[3])\n",
    "    w = tf.Variable(tf.truncated_normal([conv_ksize[0], conv_ksize[1], depth, conv_num_outputs],stddev=0.05, mean=0.001))\n",
    "    b = tf.Variable(tf.zeros(conv_num_outputs))\n",
    "    strides = [1, conv_strides[0], conv_strides[1], 1]\n",
    "    ksize = [1, pool_ksize[0], pool_ksize[1], 1]\n",
    "    padding = 'SAME'\n",
    "    \n",
    "    conv= tf.nn.conv2d(x_tensor, w, strides, padding)\n",
    "    conv = tf.nn.bias_add(conv, b)\n",
    "    conv = tf.nn.relu(conv)\n",
    "    strides = [1, pool_strides[0], pool_strides[1], 1]\n",
    "    max_pool=tf.nn.max_pool(conv, ksize, strides, padding)\n",
    "    return max_pool \n",
    "\n",
    "\n",
    "\"\"\"\n",
    "DON'T MODIFY ANYTHING IN THIS CELL THAT IS BELOW THIS LINE\n",
    "\"\"\"\n",
    "tests.test_con_pool(conv2d_maxpool)"
   ]
  },
  {
   "cell_type": "markdown",
   "metadata": {},
   "source": [
    "### Flatten Layer\n",
    "Implement the `flatten` function to change the dimension of `x_tensor` from a 4-D tensor to a 2-D tensor.  The output should be the shape (*Batch Size*, *Flattened Image Size*). You can use [TensorFlow Layers](https://www.tensorflow.org/api_docs/python/tf/layers) or [TensorFlow Layers (contrib)](https://www.tensorflow.org/api_guides/python/contrib.layers) for this layer."
   ]
  },
  {
   "cell_type": "code",
   "execution_count": 59,
   "metadata": {
    "collapsed": false
   },
   "outputs": [
    {
     "name": "stdout",
     "output_type": "stream",
     "text": [
      "Tests Passed\n"
     ]
    }
   ],
   "source": [
    "def flatten(x_tensor):\n",
    "    \"\"\"\n",
    "    Flatten x_tensor to (Batch Size, Flattened Image Size)\n",
    "    : x_tensor: A tensor of size (Batch Size, ...), where ... are the image dimensions.\n",
    "    : return: A tensor of size (Batch Size, Flattened Image Size).\n",
    "    \"\"\"\n",
    "    # TODO: Implement Function\n",
    "    shape = x_tensor.get_shape().as_list()\n",
    "    dim = np.prod(shape[1:]) \n",
    "    x2_tensor = tf.reshape(x_tensor, [-1, dim])\n",
    "    return x2_tensor\n",
    "\n",
    "\n",
    "\"\"\"\n",
    "DON'T MODIFY ANYTHING IN THIS CELL THAT IS BELOW THIS LINE\n",
    "\"\"\"\n",
    "tests.test_flatten(flatten)"
   ]
  },
  {
   "cell_type": "markdown",
   "metadata": {},
   "source": [
    "### Fully-Connected Layer\n",
    "Implement the `fully_conn` function to apply a fully connected layer to `x_tensor` with the shape (*Batch Size*, *num_outputs*). You can use [TensorFlow Layers](https://www.tensorflow.org/api_docs/python/tf/layers) or [TensorFlow Layers (contrib)](https://www.tensorflow.org/api_guides/python/contrib.layers) for this layer."
   ]
  },
  {
   "cell_type": "code",
   "execution_count": 111,
   "metadata": {
    "collapsed": false
   },
   "outputs": [
    {
     "name": "stdout",
     "output_type": "stream",
     "text": [
      "Tests Passed\n"
     ]
    }
   ],
   "source": [
    "def fully_conn(x_tensor, num_outputs):\n",
    "    \"\"\"\n",
    "    Apply a fully connected layer to x_tensor using weight and bias\n",
    "    : x_tensor: A 2-D tensor where the first dimension is batch size.\n",
    "    : num_outputs: The number of output that the new tensor should be.\n",
    "    : return: A 2-D tensor where the second dimension is num_outputs.\n",
    "    \"\"\"\n",
    "    # TODO: Implement Function\n",
    "    w = tf.Variable(tf.truncated_normal([x_tensor.get_shape().as_list()[1], num_outputs],stddev=0.05, mean=0.001))\n",
    "    b = tf.Variable(tf.zeros(num_outputs))\n",
    "    fcl = tf.add(tf.matmul(x_tensor, w), b)\n",
    "    fcl = tf.nn.relu(fcl)\n",
    "    return fcl\n",
    "\n",
    "\n",
    "\"\"\"\n",
    "DON'T MODIFY ANYTHING IN THIS CELL THAT IS BELOW THIS LINE\n",
    "\"\"\"\n",
    "tests.test_fully_conn(fully_conn)"
   ]
  },
  {
   "cell_type": "markdown",
   "metadata": {},
   "source": [
    "### Output Layer\n",
    "Implement the `output` function to apply a fully connected layer to `x_tensor` with the shape (*Batch Size*, *num_outputs*). You can use [TensorFlow Layers](https://www.tensorflow.org/api_docs/python/tf/layers) or [TensorFlow Layers (contrib)](https://www.tensorflow.org/api_guides/python/contrib.layers) for this layer.\n",
    "\n",
    "Note: Activation, softmax, or cross entropy shouldn't be applied to this."
   ]
  },
  {
   "cell_type": "code",
   "execution_count": 112,
   "metadata": {
    "collapsed": false
   },
   "outputs": [
    {
     "name": "stdout",
     "output_type": "stream",
     "text": [
      "Tests Passed\n"
     ]
    }
   ],
   "source": [
    "def output(x_tensor, num_outputs):\n",
    "    \"\"\"\n",
    "    Apply a output layer to x_tensor using weight and bias\n",
    "    : x_tensor: A 2-D tensor where the first dimension is batch size.\n",
    "    : num_outputs: The number of output that the new tensor should be.\n",
    "    : return: A 2-D tensor where the second dimension is num_outputs.\n",
    "    \"\"\"\n",
    "    # TODO: Implement Function\n",
    "    w = tf.Variable(tf.truncated_normal([x_tensor.get_shape().as_list()[1], num_outputs],stddev=0.05, mean=0.001))\n",
    "    b = tf.Variable(tf.zeros(num_outputs))\n",
    "    out = tf.add(tf.matmul(x_tensor, w), b)\n",
    "    return out\n",
    "\n",
    "\n",
    "\"\"\"\n",
    "DON'T MODIFY ANYTHING IN THIS CELL THAT IS BELOW THIS LINE\n",
    "\"\"\"\n",
    "tests.test_output(output)"
   ]
  },
  {
   "cell_type": "markdown",
   "metadata": {},
   "source": [
    "### Create Convolutional Model\n",
    "Implement the function `conv_net` to create a convolutional neural network model. The function takes in a batch of images, `x`, and outputs logits.  Use the layers you created above to create this model:\n",
    "\n",
    "* Apply 1, 2, or 3 Convolution and Max Pool layers\n",
    "* Apply a Flatten Layer\n",
    "* Apply 1, 2, or 3 Fully Connected Layers\n",
    "* Apply an Output Layer\n",
    "* Return the output\n",
    "* Apply [TensorFlow's Dropout](https://www.tensorflow.org/api_docs/python/tf/nn/dropout) to one or more layers in the model using `keep_prob`. "
   ]
  },
  {
   "cell_type": "code",
   "execution_count": 134,
   "metadata": {
    "collapsed": false
   },
   "outputs": [
    {
     "name": "stdout",
     "output_type": "stream",
     "text": [
      "Neural Network Built!\n"
     ]
    }
   ],
   "source": [
    "def conv_net(x, keep_prob):\n",
    "    \"\"\"\n",
    "    Create a convolutional neural network model\n",
    "    : x: Placeholder tensor that holds image data.\n",
    "    : keep_prob: Placeholder tensor that hold dropout keep probability.\n",
    "    : return: Tensor that represents logits\n",
    "    \"\"\"\n",
    "    # TODO: Apply 1, 2, or 3 Convolution and Max Pool layers\n",
    "    #    Play around with different number of outputs, kernel size and stride\n",
    "    # Function Definition from Above:\n",
    "    #    conv2d_maxpool(x_tensor, conv_num_outputs, conv_ksize, conv_strides, pool_ksize, pool_strides)\n",
    "    conv_num_outputs = 16\n",
    "    conv_ksize = (4, 4)\n",
    "    conv_strides = (2, 2)\n",
    "    pool_ksize = (4, 4)\n",
    "    pool_strides = (2, 2)\n",
    "    conv1=conv2d_maxpool(x, conv_num_outputs, conv_ksize, conv_strides, pool_ksize, pool_strides)\n",
    "    conv_num_outputs = 32\n",
    "    conv_ksize = (3, 3)\n",
    "    conv_strides = (1, 1)\n",
    "    pool_ksize = (3, 3)\n",
    "    pool_strides = (1, 1)\n",
    "    conv2=conv2d_maxpool(conv1, conv_num_outputs, conv_ksize, conv_strides, pool_ksize, pool_strides)\n",
    "    #conv_num_outputs = 64\n",
    "    #conv_ksize = (2, 2)\n",
    "    #conv_strides = (1, 1)\n",
    "    #pool_ksize = (2, 2)\n",
    "    #pool_strides = (1, 1)\n",
    "    #conv3=conv2d_maxpool(conv2, conv_num_outputs, conv_ksize, conv_strides, pool_ksize, pool_strides)\n",
    "    \n",
    "    # TODO: Apply a Flatten Layer\n",
    "    # Function Definition from Above:\n",
    "    #   flatten(x_tensor)\n",
    "    flatten_conv=flatten(conv2)\n",
    "\n",
    "    # TODO: Apply 1, 2, or 3 Fully Connected Layers\n",
    "    #    Play around with different number of outputs\n",
    "    # Function Definition from Above:\n",
    "    #   fully_conn(x_tensor, num_outputs)\n",
    "    fcl_num_outputs=384\n",
    "    fcl1=fully_conn(flatten_conv, fcl_num_outputs)\n",
    "    fcl1 = tf.nn.dropout(fcl1, keep_prob)\n",
    "    fcl_num_outputs=512\n",
    "    fcl2=fully_conn(fcl1, fcl_num_outputs)\n",
    "    fcl2 = tf.nn.dropout(fcl2, keep_prob)\n",
    "    #fcl_num_outputs=768\n",
    "    #fcl3=fully_conn(fcl2, fcl_num_outputs)\n",
    "    #fcl3 = tf.nn.dropout(fcl3, keep_prob)\n",
    "    \n",
    "    # TODO: Apply an Output Layer\n",
    "    #    Set this to the number of classes\n",
    "    # Function Definition from Above:\n",
    "    #   output(x_tensor, num_outputs)\n",
    "    num_outputs=10\n",
    "    out=output(fcl2, num_outputs)\n",
    "    \n",
    "    # TODO: return output\n",
    "    return out\n",
    "\n",
    "\n",
    "\"\"\"\n",
    "DON'T MODIFY ANYTHING IN THIS CELL THAT IS BELOW THIS LINE\n",
    "\"\"\"\n",
    "\n",
    "##############################\n",
    "## Build the Neural Network ##\n",
    "##############################\n",
    "\n",
    "# Remove previous weights, bias, inputs, etc..\n",
    "tf.reset_default_graph()\n",
    "\n",
    "# Inputs\n",
    "x = neural_net_image_input((32, 32, 3))\n",
    "y = neural_net_label_input(10)\n",
    "keep_prob = neural_net_keep_prob_input()\n",
    "\n",
    "# Model\n",
    "logits = conv_net(x, keep_prob)\n",
    "\n",
    "# Name logits Tensor, so that is can be loaded from disk after training\n",
    "logits = tf.identity(logits, name='logits')\n",
    "\n",
    "# Loss and Optimizer\n",
    "cost = tf.reduce_mean(tf.nn.softmax_cross_entropy_with_logits(logits=logits, labels=y))\n",
    "optimizer = tf.train.AdamOptimizer().minimize(cost)\n",
    "\n",
    "# Accuracy\n",
    "correct_pred = tf.equal(tf.argmax(logits, 1), tf.argmax(y, 1))\n",
    "accuracy = tf.reduce_mean(tf.cast(correct_pred, tf.float32), name='accuracy')\n",
    "\n",
    "tests.test_conv_net(conv_net)"
   ]
  },
  {
   "cell_type": "markdown",
   "metadata": {},
   "source": [
    "## Train the Neural Network\n",
    "### Single Optimization\n",
    "Implement the function `train_neural_network` to do a single optimization.  The optimization should use `optimizer` to optimize in `session` with a `feed_dict` of the following:\n",
    "* `x` for image input\n",
    "* `y` for labels\n",
    "* `keep_prob` for keep probability for dropout\n",
    "\n",
    "This function will be called for each batch, so `tf.global_variables_initializer()` has already been called.\n",
    "\n",
    "Note: Nothing needs to be returned. This function is only optimizing the neural network."
   ]
  },
  {
   "cell_type": "code",
   "execution_count": 135,
   "metadata": {
    "collapsed": false
   },
   "outputs": [
    {
     "name": "stdout",
     "output_type": "stream",
     "text": [
      "Tests Passed\n"
     ]
    }
   ],
   "source": [
    "def train_neural_network(session, optimizer, keep_probability, feature_batch, label_batch):\n",
    "    \"\"\"\n",
    "    Optimize the session on a batch of images and labels\n",
    "    : session: Current TensorFlow session\n",
    "    : optimizer: TensorFlow optimizer function\n",
    "    : keep_probability: keep probability\n",
    "    : feature_batch: Batch of Numpy image data\n",
    "    : label_batch: Batch of Numpy label data\n",
    "    \"\"\"\n",
    "    # TODO: Implement Function\n",
    "    session.run(optimizer, feed_dict={x: feature_batch, y: label_batch, keep_prob: keep_probability})\n",
    "\n",
    "\n",
    "\"\"\"\n",
    "DON'T MODIFY ANYTHING IN THIS CELL THAT IS BELOW THIS LINE\n",
    "\"\"\"\n",
    "tests.test_train_nn(train_neural_network)"
   ]
  },
  {
   "cell_type": "markdown",
   "metadata": {},
   "source": [
    "### Show Stats\n",
    "Implement the function `print_stats` to print loss and validation accuracy.  Use the global variables `valid_features` and `valid_labels` to calculate validation accuracy.  Use a keep probability of `1.0` to calculate the loss and validation accuracy."
   ]
  },
  {
   "cell_type": "code",
   "execution_count": 136,
   "metadata": {
    "collapsed": false
   },
   "outputs": [],
   "source": [
    "def print_stats(session, feature_batch, label_batch, cost, accuracy):\n",
    "    \"\"\"\n",
    "    Print information about loss and validation accuracy\n",
    "    : session: Current TensorFlow session\n",
    "    : feature_batch: Batch of Numpy image data\n",
    "    : label_batch: Batch of Numpy label data\n",
    "    : cost: TensorFlow cost function\n",
    "    : accuracy: TensorFlow accuracy function\n",
    "    \"\"\"\n",
    "    # TODO: Implement Function\n",
    "    test_valid_size = 64\n",
    "    loss = session.run(cost, feed_dict={x: feature_batch, y: label_batch, keep_prob: 1.})\n",
    "    valid_acc = session.run(accuracy, feed_dict={\n",
    "        x: valid_features,\n",
    "        y: valid_labels,\n",
    "        keep_prob: 1.})\n",
    "\n",
    "    print('Loss: {:>10.4f} Validation Accuracy: {:.6f}'.format(loss,valid_acc))"
   ]
  },
  {
   "cell_type": "markdown",
   "metadata": {},
   "source": [
    "### Hyperparameters\n",
    "Tune the following parameters:\n",
    "* Set `epochs` to the number of iterations until the network stops learning or start overfitting\n",
    "* Set `batch_size` to the highest number that your machine has memory for.  Most people set them to common sizes of memory:\n",
    " * 64\n",
    " * 128\n",
    " * 256\n",
    " * ...\n",
    "* Set `keep_probability` to the probability of keeping a node using dropout"
   ]
  },
  {
   "cell_type": "code",
   "execution_count": 137,
   "metadata": {
    "collapsed": true
   },
   "outputs": [],
   "source": [
    "# TODO: Tune Parameters\n",
    "epochs = 30\n",
    "batch_size = 2048\n",
    "keep_probability = 0.75"
   ]
  },
  {
   "cell_type": "markdown",
   "metadata": {},
   "source": [
    "### Train on a Single CIFAR-10 Batch\n",
    "Instead of training the neural network on all the CIFAR-10 batches of data, let's use a single batch. This should save time while you iterate on the model to get a better accuracy.  Once the final validation accuracy is 50% or greater, run the model on all the data in the next section."
   ]
  },
  {
   "cell_type": "code",
   "execution_count": 138,
   "metadata": {
    "collapsed": false
   },
   "outputs": [
    {
     "name": "stdout",
     "output_type": "stream",
     "text": [
      "Checking the Training on a Single Batch...\n",
      "Epoch  1, CIFAR-10 Batch 1:  Loss:     2.2736 Validation Accuracy: 0.204600\n",
      "Epoch  2, CIFAR-10 Batch 1:  Loss:     2.1688 Validation Accuracy: 0.240800\n",
      "Epoch  3, CIFAR-10 Batch 1:  Loss:     1.9861 Validation Accuracy: 0.314200\n",
      "Epoch  4, CIFAR-10 Batch 1:  Loss:     1.9095 Validation Accuracy: 0.292000\n",
      "Epoch  5, CIFAR-10 Batch 1:  Loss:     1.8678 Validation Accuracy: 0.328200\n",
      "Epoch  6, CIFAR-10 Batch 1:  Loss:     1.8054 Validation Accuracy: 0.355400\n",
      "Epoch  7, CIFAR-10 Batch 1:  Loss:     1.7580 Validation Accuracy: 0.360600\n",
      "Epoch  8, CIFAR-10 Batch 1:  Loss:     1.7132 Validation Accuracy: 0.375400\n",
      "Epoch  9, CIFAR-10 Batch 1:  Loss:     1.6614 Validation Accuracy: 0.382800\n",
      "Epoch 10, CIFAR-10 Batch 1:  Loss:     1.6231 Validation Accuracy: 0.393600\n",
      "Epoch 11, CIFAR-10 Batch 1:  Loss:     1.5718 Validation Accuracy: 0.410000\n",
      "Epoch 12, CIFAR-10 Batch 1:  Loss:     1.5303 Validation Accuracy: 0.415600\n",
      "Epoch 13, CIFAR-10 Batch 1:  Loss:     1.5005 Validation Accuracy: 0.425000\n",
      "Epoch 14, CIFAR-10 Batch 1:  Loss:     1.4967 Validation Accuracy: 0.427800\n",
      "Epoch 15, CIFAR-10 Batch 1:  Loss:     1.4511 Validation Accuracy: 0.439600\n",
      "Epoch 16, CIFAR-10 Batch 1:  Loss:     1.4476 Validation Accuracy: 0.435000\n",
      "Epoch 17, CIFAR-10 Batch 1:  Loss:     1.4029 Validation Accuracy: 0.443600\n",
      "Epoch 18, CIFAR-10 Batch 1:  Loss:     1.3939 Validation Accuracy: 0.449600\n",
      "Epoch 19, CIFAR-10 Batch 1:  Loss:     1.3504 Validation Accuracy: 0.463800\n",
      "Epoch 20, CIFAR-10 Batch 1:  Loss:     1.3316 Validation Accuracy: 0.466400\n",
      "Epoch 21, CIFAR-10 Batch 1:  Loss:     1.3182 Validation Accuracy: 0.472600\n",
      "Epoch 22, CIFAR-10 Batch 1:  Loss:     1.3076 Validation Accuracy: 0.468000\n",
      "Epoch 23, CIFAR-10 Batch 1:  Loss:     1.2941 Validation Accuracy: 0.466400\n",
      "Epoch 24, CIFAR-10 Batch 1:  Loss:     1.2814 Validation Accuracy: 0.474400\n",
      "Epoch 25, CIFAR-10 Batch 1:  Loss:     1.2501 Validation Accuracy: 0.481200\n",
      "Epoch 26, CIFAR-10 Batch 1:  Loss:     1.2467 Validation Accuracy: 0.487200\n",
      "Epoch 27, CIFAR-10 Batch 1:  Loss:     1.1975 Validation Accuracy: 0.495400\n",
      "Epoch 28, CIFAR-10 Batch 1:  Loss:     1.2182 Validation Accuracy: 0.491200\n",
      "Epoch 29, CIFAR-10 Batch 1:  Loss:     1.1764 Validation Accuracy: 0.499000\n",
      "Epoch 30, CIFAR-10 Batch 1:  Loss:     1.1514 Validation Accuracy: 0.503600\n"
     ]
    }
   ],
   "source": [
    "\"\"\"\n",
    "DON'T MODIFY ANYTHING IN THIS CELL\n",
    "\"\"\"\n",
    "print('Checking the Training on a Single Batch...')\n",
    "with tf.Session() as sess:\n",
    "    # Initializing the variables\n",
    "    sess.run(tf.global_variables_initializer())\n",
    "    \n",
    "    # Training cycle\n",
    "    for epoch in range(epochs):\n",
    "        batch_i = 1\n",
    "        for batch_features, batch_labels in helper.load_preprocess_training_batch(batch_i, batch_size):\n",
    "            train_neural_network(sess, optimizer, keep_probability, batch_features, batch_labels)\n",
    "        print('Epoch {:>2}, CIFAR-10 Batch {}:  '.format(epoch + 1, batch_i), end='')\n",
    "        print_stats(sess, batch_features, batch_labels, cost, accuracy)"
   ]
  },
  {
   "cell_type": "markdown",
   "metadata": {},
   "source": [
    "### Fully Train the Model\n",
    "Now that you got a good accuracy with a single CIFAR-10 batch, try it with all five batches."
   ]
  },
  {
   "cell_type": "code",
   "execution_count": 140,
   "metadata": {
    "collapsed": false
   },
   "outputs": [
    {
     "name": "stdout",
     "output_type": "stream",
     "text": [
      "Training...\n",
      "Epoch  1, CIFAR-10 Batch 1:  Loss:     2.2641 Validation Accuracy: 0.179800\n",
      "Epoch  1, CIFAR-10 Batch 2:  Loss:     2.1195 Validation Accuracy: 0.235400\n",
      "Epoch  1, CIFAR-10 Batch 3:  Loss:     1.9493 Validation Accuracy: 0.263000\n",
      "Epoch  1, CIFAR-10 Batch 4:  Loss:     1.8631 Validation Accuracy: 0.322800\n",
      "Epoch  1, CIFAR-10 Batch 5:  Loss:     1.8248 Validation Accuracy: 0.354600\n",
      "Epoch  2, CIFAR-10 Batch 1:  Loss:     1.7685 Validation Accuracy: 0.362800\n",
      "Epoch  2, CIFAR-10 Batch 2:  Loss:     1.7109 Validation Accuracy: 0.386800\n",
      "Epoch  2, CIFAR-10 Batch 3:  Loss:     1.6489 Validation Accuracy: 0.375800\n",
      "Epoch  2, CIFAR-10 Batch 4:  Loss:     1.6209 Validation Accuracy: 0.398000\n",
      "Epoch  2, CIFAR-10 Batch 5:  Loss:     1.6482 Validation Accuracy: 0.410200\n",
      "Epoch  3, CIFAR-10 Batch 1:  Loss:     1.5774 Validation Accuracy: 0.418600\n",
      "Epoch  3, CIFAR-10 Batch 2:  Loss:     1.5627 Validation Accuracy: 0.430600\n",
      "Epoch  3, CIFAR-10 Batch 3:  Loss:     1.4809 Validation Accuracy: 0.440800\n",
      "Epoch  3, CIFAR-10 Batch 4:  Loss:     1.4970 Validation Accuracy: 0.443800\n",
      "Epoch  3, CIFAR-10 Batch 5:  Loss:     1.5182 Validation Accuracy: 0.461800\n",
      "Epoch  4, CIFAR-10 Batch 1:  Loss:     1.4608 Validation Accuracy: 0.468800\n",
      "Epoch  4, CIFAR-10 Batch 2:  Loss:     1.4565 Validation Accuracy: 0.477800\n",
      "Epoch  4, CIFAR-10 Batch 3:  Loss:     1.3701 Validation Accuracy: 0.477800\n",
      "Epoch  4, CIFAR-10 Batch 4:  Loss:     1.3754 Validation Accuracy: 0.480400\n",
      "Epoch  4, CIFAR-10 Batch 5:  Loss:     1.4105 Validation Accuracy: 0.493400\n",
      "Epoch  5, CIFAR-10 Batch 1:  Loss:     1.3788 Validation Accuracy: 0.494400\n",
      "Epoch  5, CIFAR-10 Batch 2:  Loss:     1.3745 Validation Accuracy: 0.496800\n",
      "Epoch  5, CIFAR-10 Batch 3:  Loss:     1.3221 Validation Accuracy: 0.495200\n",
      "Epoch  5, CIFAR-10 Batch 4:  Loss:     1.3138 Validation Accuracy: 0.498800\n",
      "Epoch  5, CIFAR-10 Batch 5:  Loss:     1.3504 Validation Accuracy: 0.506400\n",
      "Epoch  6, CIFAR-10 Batch 1:  Loss:     1.3109 Validation Accuracy: 0.516600\n",
      "Epoch  6, CIFAR-10 Batch 2:  Loss:     1.3265 Validation Accuracy: 0.512600\n",
      "Epoch  6, CIFAR-10 Batch 3:  Loss:     1.2838 Validation Accuracy: 0.504000\n",
      "Epoch  6, CIFAR-10 Batch 4:  Loss:     1.2475 Validation Accuracy: 0.525400\n",
      "Epoch  6, CIFAR-10 Batch 5:  Loss:     1.2787 Validation Accuracy: 0.530200\n",
      "Epoch  7, CIFAR-10 Batch 1:  Loss:     1.2840 Validation Accuracy: 0.528000\n",
      "Epoch  7, CIFAR-10 Batch 2:  Loss:     1.2717 Validation Accuracy: 0.529800\n",
      "Epoch  7, CIFAR-10 Batch 3:  Loss:     1.2405 Validation Accuracy: 0.512600\n",
      "Epoch  7, CIFAR-10 Batch 4:  Loss:     1.2295 Validation Accuracy: 0.521800\n",
      "Epoch  7, CIFAR-10 Batch 5:  Loss:     1.2294 Validation Accuracy: 0.542600\n",
      "Epoch  8, CIFAR-10 Batch 1:  Loss:     1.2104 Validation Accuracy: 0.541800\n",
      "Epoch  8, CIFAR-10 Batch 2:  Loss:     1.2273 Validation Accuracy: 0.540200\n",
      "Epoch  8, CIFAR-10 Batch 3:  Loss:     1.1668 Validation Accuracy: 0.547000\n",
      "Epoch  8, CIFAR-10 Batch 4:  Loss:     1.1773 Validation Accuracy: 0.536600\n",
      "Epoch  8, CIFAR-10 Batch 5:  Loss:     1.1931 Validation Accuracy: 0.544600\n",
      "Epoch  9, CIFAR-10 Batch 1:  Loss:     1.1821 Validation Accuracy: 0.546600\n",
      "Epoch  9, CIFAR-10 Batch 2:  Loss:     1.1927 Validation Accuracy: 0.549400\n",
      "Epoch  9, CIFAR-10 Batch 3:  Loss:     1.1260 Validation Accuracy: 0.557000\n",
      "Epoch  9, CIFAR-10 Batch 4:  Loss:     1.1418 Validation Accuracy: 0.560600\n",
      "Epoch  9, CIFAR-10 Batch 5:  Loss:     1.1416 Validation Accuracy: 0.569000\n",
      "Epoch 10, CIFAR-10 Batch 1:  Loss:     1.1292 Validation Accuracy: 0.556800\n",
      "Epoch 10, CIFAR-10 Batch 2:  Loss:     1.1458 Validation Accuracy: 0.576600\n",
      "Epoch 10, CIFAR-10 Batch 3:  Loss:     1.0966 Validation Accuracy: 0.568000\n",
      "Epoch 10, CIFAR-10 Batch 4:  Loss:     1.0994 Validation Accuracy: 0.568600\n",
      "Epoch 10, CIFAR-10 Batch 5:  Loss:     1.1058 Validation Accuracy: 0.576400\n",
      "Epoch 11, CIFAR-10 Batch 1:  Loss:     1.1028 Validation Accuracy: 0.565200\n",
      "Epoch 11, CIFAR-10 Batch 2:  Loss:     1.1306 Validation Accuracy: 0.576400\n",
      "Epoch 11, CIFAR-10 Batch 3:  Loss:     1.0522 Validation Accuracy: 0.572400\n",
      "Epoch 11, CIFAR-10 Batch 4:  Loss:     1.0785 Validation Accuracy: 0.573200\n",
      "Epoch 11, CIFAR-10 Batch 5:  Loss:     1.0757 Validation Accuracy: 0.582600\n",
      "Epoch 12, CIFAR-10 Batch 1:  Loss:     1.0387 Validation Accuracy: 0.584000\n",
      "Epoch 12, CIFAR-10 Batch 2:  Loss:     1.0967 Validation Accuracy: 0.590000\n",
      "Epoch 12, CIFAR-10 Batch 3:  Loss:     1.0473 Validation Accuracy: 0.577600\n",
      "Epoch 12, CIFAR-10 Batch 4:  Loss:     1.0467 Validation Accuracy: 0.585800\n",
      "Epoch 12, CIFAR-10 Batch 5:  Loss:     1.0389 Validation Accuracy: 0.591600\n",
      "Epoch 13, CIFAR-10 Batch 1:  Loss:     1.0282 Validation Accuracy: 0.596000\n",
      "Epoch 13, CIFAR-10 Batch 2:  Loss:     1.0646 Validation Accuracy: 0.589800\n",
      "Epoch 13, CIFAR-10 Batch 3:  Loss:     0.9856 Validation Accuracy: 0.593200\n",
      "Epoch 13, CIFAR-10 Batch 4:  Loss:     0.9937 Validation Accuracy: 0.602200\n",
      "Epoch 13, CIFAR-10 Batch 5:  Loss:     0.9960 Validation Accuracy: 0.603400\n",
      "Epoch 14, CIFAR-10 Batch 1:  Loss:     0.9841 Validation Accuracy: 0.603000\n",
      "Epoch 14, CIFAR-10 Batch 2:  Loss:     1.0338 Validation Accuracy: 0.598200\n",
      "Epoch 14, CIFAR-10 Batch 3:  Loss:     0.9635 Validation Accuracy: 0.599800\n",
      "Epoch 14, CIFAR-10 Batch 4:  Loss:     0.9860 Validation Accuracy: 0.601200\n",
      "Epoch 14, CIFAR-10 Batch 5:  Loss:     0.9871 Validation Accuracy: 0.604200\n",
      "Epoch 15, CIFAR-10 Batch 1:  Loss:     0.9523 Validation Accuracy: 0.615200\n",
      "Epoch 15, CIFAR-10 Batch 2:  Loss:     0.9826 Validation Accuracy: 0.613000\n",
      "Epoch 15, CIFAR-10 Batch 3:  Loss:     0.9302 Validation Accuracy: 0.611400\n",
      "Epoch 15, CIFAR-10 Batch 4:  Loss:     0.9310 Validation Accuracy: 0.618800\n",
      "Epoch 15, CIFAR-10 Batch 5:  Loss:     0.9461 Validation Accuracy: 0.613800\n",
      "Epoch 16, CIFAR-10 Batch 1:  Loss:     0.9212 Validation Accuracy: 0.622000\n",
      "Epoch 16, CIFAR-10 Batch 2:  Loss:     0.9520 Validation Accuracy: 0.623400\n",
      "Epoch 16, CIFAR-10 Batch 3:  Loss:     0.9008 Validation Accuracy: 0.616800\n",
      "Epoch 16, CIFAR-10 Batch 4:  Loss:     0.9195 Validation Accuracy: 0.618800\n",
      "Epoch 16, CIFAR-10 Batch 5:  Loss:     0.9010 Validation Accuracy: 0.624000\n",
      "Epoch 17, CIFAR-10 Batch 1:  Loss:     0.8956 Validation Accuracy: 0.626600\n",
      "Epoch 17, CIFAR-10 Batch 2:  Loss:     0.9305 Validation Accuracy: 0.622600\n",
      "Epoch 17, CIFAR-10 Batch 3:  Loss:     0.8917 Validation Accuracy: 0.619200\n",
      "Epoch 17, CIFAR-10 Batch 4:  Loss:     0.8966 Validation Accuracy: 0.624800\n",
      "Epoch 17, CIFAR-10 Batch 5:  Loss:     0.8862 Validation Accuracy: 0.631400\n",
      "Epoch 18, CIFAR-10 Batch 1:  Loss:     0.8617 Validation Accuracy: 0.630400\n",
      "Epoch 18, CIFAR-10 Batch 2:  Loss:     0.9251 Validation Accuracy: 0.619400\n",
      "Epoch 18, CIFAR-10 Batch 3:  Loss:     0.8566 Validation Accuracy: 0.621000\n",
      "Epoch 18, CIFAR-10 Batch 4:  Loss:     0.8611 Validation Accuracy: 0.625200\n",
      "Epoch 18, CIFAR-10 Batch 5:  Loss:     0.8620 Validation Accuracy: 0.633000\n",
      "Epoch 19, CIFAR-10 Batch 1:  Loss:     0.8409 Validation Accuracy: 0.633600\n",
      "Epoch 19, CIFAR-10 Batch 2:  Loss:     0.8857 Validation Accuracy: 0.628400\n",
      "Epoch 19, CIFAR-10 Batch 3:  Loss:     0.8239 Validation Accuracy: 0.633400\n",
      "Epoch 19, CIFAR-10 Batch 4:  Loss:     0.8271 Validation Accuracy: 0.638600\n",
      "Epoch 19, CIFAR-10 Batch 5:  Loss:     0.8323 Validation Accuracy: 0.637600\n",
      "Epoch 20, CIFAR-10 Batch 1:  Loss:     0.8189 Validation Accuracy: 0.633800\n",
      "Epoch 20, CIFAR-10 Batch 2:  Loss:     0.8674 Validation Accuracy: 0.630200\n",
      "Epoch 20, CIFAR-10 Batch 3:  Loss:     0.8064 Validation Accuracy: 0.633200\n",
      "Epoch 20, CIFAR-10 Batch 4:  Loss:     0.8051 Validation Accuracy: 0.641000\n",
      "Epoch 20, CIFAR-10 Batch 5:  Loss:     0.8093 Validation Accuracy: 0.638600\n",
      "Epoch 21, CIFAR-10 Batch 1:  Loss:     0.7980 Validation Accuracy: 0.639600\n",
      "Epoch 21, CIFAR-10 Batch 2:  Loss:     0.8393 Validation Accuracy: 0.641000\n",
      "Epoch 21, CIFAR-10 Batch 3:  Loss:     0.7840 Validation Accuracy: 0.635600\n",
      "Epoch 21, CIFAR-10 Batch 4:  Loss:     0.7936 Validation Accuracy: 0.639800\n",
      "Epoch 21, CIFAR-10 Batch 5:  Loss:     0.7759 Validation Accuracy: 0.647600\n",
      "Epoch 22, CIFAR-10 Batch 1:  Loss:     0.8205 Validation Accuracy: 0.626000\n",
      "Epoch 22, CIFAR-10 Batch 2:  Loss:     0.8188 Validation Accuracy: 0.646400\n",
      "Epoch 22, CIFAR-10 Batch 3:  Loss:     0.7662 Validation Accuracy: 0.642800\n",
      "Epoch 22, CIFAR-10 Batch 4:  Loss:     0.7654 Validation Accuracy: 0.647200\n",
      "Epoch 22, CIFAR-10 Batch 5:  Loss:     0.7862 Validation Accuracy: 0.638200\n",
      "Epoch 23, CIFAR-10 Batch 1:  Loss:     0.7789 Validation Accuracy: 0.640600\n",
      "Epoch 23, CIFAR-10 Batch 2:  Loss:     0.8241 Validation Accuracy: 0.630600\n",
      "Epoch 23, CIFAR-10 Batch 3:  Loss:     0.7439 Validation Accuracy: 0.647800\n",
      "Epoch 23, CIFAR-10 Batch 4:  Loss:     0.7631 Validation Accuracy: 0.645400\n",
      "Epoch 23, CIFAR-10 Batch 5:  Loss:     0.7363 Validation Accuracy: 0.649200\n",
      "Epoch 24, CIFAR-10 Batch 1:  Loss:     0.7593 Validation Accuracy: 0.646600\n",
      "Epoch 24, CIFAR-10 Batch 2:  Loss:     0.7903 Validation Accuracy: 0.641800\n",
      "Epoch 24, CIFAR-10 Batch 3:  Loss:     0.7228 Validation Accuracy: 0.646000\n",
      "Epoch 24, CIFAR-10 Batch 4:  Loss:     0.7321 Validation Accuracy: 0.655000\n",
      "Epoch 24, CIFAR-10 Batch 5:  Loss:     0.7059 Validation Accuracy: 0.655800\n",
      "Epoch 25, CIFAR-10 Batch 1:  Loss:     0.7223 Validation Accuracy: 0.650800\n",
      "Epoch 25, CIFAR-10 Batch 2:  Loss:     0.7561 Validation Accuracy: 0.648000\n",
      "Epoch 25, CIFAR-10 Batch 3:  Loss:     0.6949 Validation Accuracy: 0.646600\n",
      "Epoch 25, CIFAR-10 Batch 4:  Loss:     0.7059 Validation Accuracy: 0.653000\n",
      "Epoch 25, CIFAR-10 Batch 5:  Loss:     0.6775 Validation Accuracy: 0.658000\n",
      "Epoch 26, CIFAR-10 Batch 1:  Loss:     0.6963 Validation Accuracy: 0.659000\n",
      "Epoch 26, CIFAR-10 Batch 2:  Loss:     0.7404 Validation Accuracy: 0.648400\n",
      "Epoch 26, CIFAR-10 Batch 3:  Loss:     0.6943 Validation Accuracy: 0.645800\n",
      "Epoch 26, CIFAR-10 Batch 4:  Loss:     0.6996 Validation Accuracy: 0.659400\n",
      "Epoch 26, CIFAR-10 Batch 5:  Loss:     0.6780 Validation Accuracy: 0.655400\n",
      "Epoch 27, CIFAR-10 Batch 1:  Loss:     0.6853 Validation Accuracy: 0.653600\n",
      "Epoch 27, CIFAR-10 Batch 2:  Loss:     0.7728 Validation Accuracy: 0.629200\n",
      "Epoch 27, CIFAR-10 Batch 3:  Loss:     0.7111 Validation Accuracy: 0.645600\n",
      "Epoch 27, CIFAR-10 Batch 4:  Loss:     0.7150 Validation Accuracy: 0.652000\n",
      "Epoch 27, CIFAR-10 Batch 5:  Loss:     0.6594 Validation Accuracy: 0.647600\n",
      "Epoch 28, CIFAR-10 Batch 1:  Loss:     0.6724 Validation Accuracy: 0.655000\n",
      "Epoch 28, CIFAR-10 Batch 2:  Loss:     0.7143 Validation Accuracy: 0.659800\n",
      "Epoch 28, CIFAR-10 Batch 3:  Loss:     0.7012 Validation Accuracy: 0.642600\n",
      "Epoch 28, CIFAR-10 Batch 4:  Loss:     0.6699 Validation Accuracy: 0.663600\n",
      "Epoch 28, CIFAR-10 Batch 5:  Loss:     0.6369 Validation Accuracy: 0.654800\n",
      "Epoch 29, CIFAR-10 Batch 1:  Loss:     0.6533 Validation Accuracy: 0.660000\n",
      "Epoch 29, CIFAR-10 Batch 2:  Loss:     0.6913 Validation Accuracy: 0.662000\n",
      "Epoch 29, CIFAR-10 Batch 3:  Loss:     0.6554 Validation Accuracy: 0.656400\n",
      "Epoch 29, CIFAR-10 Batch 4:  Loss:     0.6373 Validation Accuracy: 0.663200\n",
      "Epoch 29, CIFAR-10 Batch 5:  Loss:     0.6107 Validation Accuracy: 0.660000\n",
      "Epoch 30, CIFAR-10 Batch 1:  Loss:     0.6190 Validation Accuracy: 0.665400\n",
      "Epoch 30, CIFAR-10 Batch 2:  Loss:     0.6649 Validation Accuracy: 0.665400\n",
      "Epoch 30, CIFAR-10 Batch 3:  Loss:     0.6134 Validation Accuracy: 0.655800\n",
      "Epoch 30, CIFAR-10 Batch 4:  Loss:     0.6073 Validation Accuracy: 0.670000\n",
      "Epoch 30, CIFAR-10 Batch 5:  Loss:     0.5871 Validation Accuracy: 0.667400\n"
     ]
    }
   ],
   "source": [
    "\"\"\"\n",
    "DON'T MODIFY ANYTHING IN THIS CELL\n",
    "\"\"\"\n",
    "save_model_path = './image_classification'\n",
    "\n",
    "print('Training...')\n",
    "with tf.Session() as sess:\n",
    "    # Initializing the variables\n",
    "    sess.run(tf.global_variables_initializer())\n",
    "    \n",
    "    # Training cycle\n",
    "    for epoch in range(epochs):\n",
    "        # Loop over all batches\n",
    "        n_batches = 5\n",
    "        for batch_i in range(1, n_batches + 1):\n",
    "            for batch_features, batch_labels in helper.load_preprocess_training_batch(batch_i, batch_size):\n",
    "                train_neural_network(sess, optimizer, keep_probability, batch_features, batch_labels)\n",
    "            print('Epoch {:>2}, CIFAR-10 Batch {}:  '.format(epoch + 1, batch_i), end='')\n",
    "            print_stats(sess, batch_features, batch_labels, cost, accuracy)\n",
    "            \n",
    "    # Save Model\n",
    "    saver = tf.train.Saver()\n",
    "    save_path = saver.save(sess, save_model_path)"
   ]
  },
  {
   "cell_type": "markdown",
   "metadata": {},
   "source": [
    "# Checkpoint\n",
    "The model has been saved to disk.\n",
    "## Test Model\n",
    "Test your model against the test dataset.  This will be your final accuracy. You should have an accuracy greater than 50%. If you don't, keep tweaking the model architecture and parameters."
   ]
  },
  {
   "cell_type": "code",
   "execution_count": 141,
   "metadata": {
    "collapsed": false
   },
   "outputs": [
    {
     "name": "stdout",
     "output_type": "stream",
     "text": [
      "Testing Accuracy: 0.6587346196174622\n",
      "\n"
     ]
    },
    {
     "data": {
      "image/png": "[encoded data removed]",
      "text/plain": [
       "<matplotlib.figure.Figure at 0xe95b710>"
      ]
     },
     "metadata": {
      "image/png": {
       "height": 319,
       "width": 355
      }
     },
     "output_type": "display_data"
    }
   ],
   "source": [
    "\"\"\"\n",
    "DON'T MODIFY ANYTHING IN THIS CELL\n",
    "\"\"\"\n",
    "%matplotlib inline\n",
    "%config InlineBackend.figure_format = 'retina'\n",
    "\n",
    "import tensorflow as tf\n",
    "import pickle\n",
    "import helper\n",
    "import random\n",
    "\n",
    "# Set batch size if not already set\n",
    "try:\n",
    "    if batch_size:\n",
    "        pass\n",
    "except NameError:\n",
    "    batch_size = 64\n",
    "\n",
    "save_model_path = './image_classification'\n",
    "n_samples = 4\n",
    "top_n_predictions = 3\n",
    "\n",
    "def test_model():\n",
    "    \"\"\"\n",
    "    Test the saved model against the test dataset\n",
    "    \"\"\"\n",
    "\n",
    "    test_features, test_labels = pickle.load(open('preprocess_training.p', mode='rb'))\n",
    "    loaded_graph = tf.Graph()\n",
    "\n",
    "    with tf.Session(graph=loaded_graph) as sess:\n",
    "        # Load model\n",
    "        loader = tf.train.import_meta_graph(save_model_path + '.meta')\n",
    "        loader.restore(sess, save_model_path)\n",
    "\n",
    "        # Get Tensors from loaded model\n",
    "        loaded_x = loaded_graph.get_tensor_by_name('x:0')\n",
    "        loaded_y = loaded_graph.get_tensor_by_name('y:0')\n",
    "        loaded_keep_prob = loaded_graph.get_tensor_by_name('keep_prob:0')\n",
    "        loaded_logits = loaded_graph.get_tensor_by_name('logits:0')\n",
    "        loaded_acc = loaded_graph.get_tensor_by_name('accuracy:0')\n",
    "        \n",
    "        # Get accuracy in batches for memory limitations\n",
    "        test_batch_acc_total = 0\n",
    "        test_batch_count = 0\n",
    "        \n",
    "        for train_feature_batch, train_label_batch in helper.batch_features_labels(test_features, test_labels, batch_size):\n",
    "            test_batch_acc_total += sess.run(\n",
    "                loaded_acc,\n",
    "                feed_dict={loaded_x: train_feature_batch, loaded_y: train_label_batch, loaded_keep_prob: 1.0})\n",
    "            test_batch_count += 1\n",
    "\n",
    "        print('Testing Accuracy: {}\\n'.format(test_batch_acc_total/test_batch_count))\n",
    "\n",
    "        # Print Random Samples\n",
    "        random_test_features, random_test_labels = tuple(zip(*random.sample(list(zip(test_features, test_labels)), n_samples)))\n",
    "        random_test_predictions = sess.run(\n",
    "            tf.nn.top_k(tf.nn.softmax(loaded_logits), top_n_predictions),\n",
    "            feed_dict={loaded_x: random_test_features, loaded_y: random_test_labels, loaded_keep_prob: 1.0})\n",
    "        helper.display_image_predictions(random_test_features, random_test_labels, random_test_predictions)\n",
    "\n",
    "\n",
    "test_model()"
   ]
  },
  {
   "cell_type": "markdown",
   "metadata": {},
   "source": [
    "## Why 50-70% Accuracy?\n",
    "You might be wondering why you can't get an accuracy any higher. First things first, 50% isn't bad for a simple CNN.  Pure guessing would get you 10% accuracy. However, you might notice people are getting scores [well above 70%](http://rodrigob.github.io/are_we_there_yet/build/classification_datasets_results.html#43494641522d3130).  That's because we haven't taught you all there is to know about neural networks. We still need to cover a few more techniques.\n",
    "## Submitting This Project\n",
    "When submitting this project, make sure to run all the cells before saving the notebook.  Save the notebook file as \"dlnd_image_classification.ipynb\" and save it as a HTML file under \"File\" -> \"Download as\".  Include the \"helper.py\" and \"problem_unittests.py\" files in your submission."
   ]
  }
 ],
 "metadata": {
  "kernelspec": {
   "display_name": "Python [conda env:dlnd2]",
   "language": "python",
   "name": "conda-env-dlnd2-py"
  },
  "language_info": {
   "codemirror_mode": {
    "name": "ipython",
    "version": 3
   },
   "file_extension": ".py",
   "mimetype": "text/x-python",
   "name": "python",
   "nbconvert_exporter": "python",
   "pygments_lexer": "ipython3",
   "version": "3.5.3"
  }
 },
 "nbformat": 4,
 "nbformat_minor": 0
}
